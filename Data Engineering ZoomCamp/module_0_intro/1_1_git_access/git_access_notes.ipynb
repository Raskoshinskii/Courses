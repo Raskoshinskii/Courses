{
 "cells": [
  {
   "cell_type": "markdown",
   "metadata": {},
   "source": [
    "### How to Get Access to Private Git Repository?\n",
    "Although the account has access to the private repository, we cannot clone the repo using account password. We must use either SSH or personal access token. First, access to a private repository must be given. Once credentials are provided, git repository can be accessed in two ways:\n",
    "1. `SSH`:\n",
    "    - https://docs.github.com/en/authentication/connecting-to-github-with-ssh/generating-a-new-ssh-key-and-adding-it-to-the-ssh-agent\n",
    "2. `Personal Access Token`\n",
    "\n",
    "\n",
    "### Cloning Git Repository (Personal Access Token)\n",
    "1. Generate new access token in Git\n",
    "2. Provide all needed access for the token\n",
    "3. Create new string to clone the repo:\n",
    "    - git clone https://<username>:<token>@github.com/<username>/<repository>.git\n",
    "    - git clone https://<username>:<token>@github.com/<repo_url>.git@<branch_name>\n",
    "4. Paste such command in `cmd` and clone the repo\n",
    "\n",
    "\n",
    "### What is Pre Commit File?\n",
    "The \"pre-commit\" file in a Git repository is typically a script or configuration file used by the pre-commit framework. The pre-commit framework allows developers to define and enforce pre-commit checks on their code repositories. These checks can include:\n",
    "- code formatting and linting: black, flake8\n",
    "- running tests: Pytest\n",
    "- types checking: MyPy\n",
    "\n",
    "When you run `git commit`, the pre-commit hooks specified in the \"pre-commit\" file are executed. If any of the checks fail, for example, if the code fails linting or formatting checks, the commit is aborted, and you're prompted to fix the issues before committing again. **It allows checking changes before commiting them.**"
   ]
  },
  {
   "cell_type": "markdown",
   "metadata": {},
   "source": [
    "### How to Integrate Pre-Commit into my Repository?\n",
    "To integrate the pre-commit framework into your Git repository we must follow these steps:\n",
    "1. Install pre-commit using pip:\n",
    "    - `pip install pre-commit`\n",
    "2. Navigate to your Git repository's root directory and run:\n",
    "    - `pre-commit install`\n",
    "3. Configure pre-commit hooks by modifying `.pre-commit-config.yaml`\n",
    "    - Hooks configuration: https://pre-commit.com/\n",
    "4. Once you've configured the hooks, you can run pre-commit manually by executing:\n",
    "    - `pre-commit run --all-files` -> runs all configured hooks on all files in repository\n",
    "5. Automate pre-commit checks:\n",
    "    - add the following line to your `.git/hooks/pre-commit` file: `pre-commit run`\n",
    "    - pre-commit checks are executed every time you run `git commit`\n",
    "\n",
    "Hooks are scripts/programs that allow you to **automate actions** at specific points in the version control workflow. Actions:\n",
    "- code formatting check\n",
    "- tests validation\n",
    "- types checking\n",
    "- ...\n",
    "\n",
    "Some common Git hooks include:\n",
    "- `pre-commit`: hook is triggered before a commit is made (check code before commiting)\n",
    "- `pre-push`: hook is triggered before changes are pushed (additional checks)\n",
    "- `post-commit`: hook is triggered after a commit (notifications sending, triggering deployment process)\n",
    "- ..."
   ]
  },
  {
   "cell_type": "code",
   "execution_count": null,
   "metadata": {},
   "outputs": [],
   "source": []
  }
 ],
 "metadata": {
  "language_info": {
   "name": "python"
  }
 },
 "nbformat": 4,
 "nbformat_minor": 2
}
