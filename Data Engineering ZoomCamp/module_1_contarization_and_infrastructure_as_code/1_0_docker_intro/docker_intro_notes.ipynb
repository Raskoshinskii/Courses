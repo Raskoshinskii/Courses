{
 "cells": [
  {
   "cell_type": "markdown",
   "metadata": {},
   "source": [
    "### Docker Intro\n",
    "- Lesson video: https://www.youtube.com/watch?v=EYNwNlOrpr0&list=PL3MmuxUbc_hJed7dXYoJw8DoCuVHhGEQb\n",
    "\n",
    "When working with WSL make sure that Docker is installed on Windows and enable WSL support for Docker from Docker desktop app.\n",
    "\n",
    "### Lesson Steps\n",
    "1. Run this simple command to run docker:\n",
    "    - `docker run hello-world`\n",
    "\n",
    "2. Run Ubunty in docker\n",
    "    - `docker run -it ubuntu bash`: run Ubunty and execute bash command in a container\n",
    "    - inside the container create dir `my_ml_app` and exist stop the container. Restart the container and check if the dir exists -> should not exist\n",
    "\n",
    "3. Check status of containers\n",
    "    - `docker ps -a`\n",
    "\n",
    "4. Create contaner with Pandas and Python 3.10\n",
    "    - `docker run -it --entrypoint=bash --name python_container python:3.10`\n",
    "    - `pip install pandas`\n",
    "\n",
    "5. Put all together: Dockerfile\n",
    "    - Create `Dockerfile` and file `simple_pipeline.py`. Define any logic in `.py` file\n",
    "    - Create `Docker Image` from `Dokerfile`:\n",
    "    - `docker build -t my_custom_image:1.0 .`: image creation from current dir `.`\n",
    "    - Run a container: `docker run -it <container_name> my_custom_image:1.0` \n",
    "    - Start container again: `docker start -i <container_name>`\n",
    "\n",
    "The same approach can be used for more complicated projects and data pipelines.\n",
    "\n",
    "\n",
    "### Docker Help\n",
    "- `it`: interactive -> terminal interaction\n",
    "- `-t`: tag (image tag)\n",
    "- `docker run` always creates a new container even if the image is the same\n",
    "- `Dockerfile` has no extension\n"
   ]
  }
 ],
 "metadata": {
  "language_info": {
   "name": "python"
  }
 },
 "nbformat": 4,
 "nbformat_minor": 2
}
