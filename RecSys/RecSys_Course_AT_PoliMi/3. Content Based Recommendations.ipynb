{
 "cells": [
  {
   "cell_type": "markdown",
   "id": "eef4fef0-8be6-496d-8c25-98fe54f725eb",
   "metadata": {},
   "source": [
    "### Content Based Recommendations"
   ]
  },
  {
   "cell_type": "code",
   "execution_count": 1,
   "id": "1792e65c-3609-4afe-93c7-46d0d1688987",
   "metadata": {},
   "outputs": [],
   "source": [
    "import os\n",
    "import zipfile\n",
    "\n",
    "import pandas as pd\n",
    "import numpy as np\n",
    "import scipy.sparse as sps\n",
    "\n",
    "import matplotlib.pyplot as plt\n",
    "import seaborn as sns "
   ]
  },
  {
   "cell_type": "markdown",
   "id": "55d95327-f252-4903-9a41-422ab0d9c7fb",
   "metadata": {},
   "source": [
    "### 1. Dowloading the Data"
   ]
  },
  {
   "cell_type": "markdown",
   "id": "12275826-5759-4da2-a60a-81a1255327cd",
   "metadata": {},
   "source": [
    "Still working with movilens dataset but **this time download additional dataset with user tags**"
   ]
  },
  {
   "cell_type": "code",
   "execution_count": 2,
   "id": "aaa83dc2-c482-4a45-ad8f-e2cf922dc4e4",
   "metadata": {},
   "outputs": [
    {
     "data": {
      "text/html": [
       "<div>\n",
       "<style scoped>\n",
       "    .dataframe tbody tr th:only-of-type {\n",
       "        vertical-align: middle;\n",
       "    }\n",
       "\n",
       "    .dataframe tbody tr th {\n",
       "        vertical-align: top;\n",
       "    }\n",
       "\n",
       "    .dataframe thead th {\n",
       "        text-align: right;\n",
       "    }\n",
       "</style>\n",
       "<table border=\"1\" class=\"dataframe\">\n",
       "  <thead>\n",
       "    <tr style=\"text-align: right;\">\n",
       "      <th></th>\n",
       "      <th>user_id</th>\n",
       "      <th>item_id</th>\n",
       "      <th>rating</th>\n",
       "      <th>timestamp</th>\n",
       "    </tr>\n",
       "  </thead>\n",
       "  <tbody>\n",
       "    <tr>\n",
       "      <th>0</th>\n",
       "      <td>1</td>\n",
       "      <td>122</td>\n",
       "      <td>5</td>\n",
       "      <td>838985046</td>\n",
       "    </tr>\n",
       "    <tr>\n",
       "      <th>1</th>\n",
       "      <td>1</td>\n",
       "      <td>185</td>\n",
       "      <td>5</td>\n",
       "      <td>838983525</td>\n",
       "    </tr>\n",
       "    <tr>\n",
       "      <th>2</th>\n",
       "      <td>1</td>\n",
       "      <td>231</td>\n",
       "      <td>5</td>\n",
       "      <td>838983392</td>\n",
       "    </tr>\n",
       "    <tr>\n",
       "      <th>3</th>\n",
       "      <td>1</td>\n",
       "      <td>292</td>\n",
       "      <td>5</td>\n",
       "      <td>838983421</td>\n",
       "    </tr>\n",
       "    <tr>\n",
       "      <th>4</th>\n",
       "      <td>1</td>\n",
       "      <td>316</td>\n",
       "      <td>5</td>\n",
       "      <td>838983392</td>\n",
       "    </tr>\n",
       "    <tr>\n",
       "      <th>...</th>\n",
       "      <td>...</td>\n",
       "      <td>...</td>\n",
       "      <td>...</td>\n",
       "      <td>...</td>\n",
       "    </tr>\n",
       "    <tr>\n",
       "      <th>10000049</th>\n",
       "      <td>71567</td>\n",
       "      <td>2107</td>\n",
       "      <td>1</td>\n",
       "      <td>912580553</td>\n",
       "    </tr>\n",
       "    <tr>\n",
       "      <th>10000050</th>\n",
       "      <td>71567</td>\n",
       "      <td>2126</td>\n",
       "      <td>2</td>\n",
       "      <td>912649143</td>\n",
       "    </tr>\n",
       "    <tr>\n",
       "      <th>10000051</th>\n",
       "      <td>71567</td>\n",
       "      <td>2294</td>\n",
       "      <td>5</td>\n",
       "      <td>912577968</td>\n",
       "    </tr>\n",
       "    <tr>\n",
       "      <th>10000052</th>\n",
       "      <td>71567</td>\n",
       "      <td>2338</td>\n",
       "      <td>2</td>\n",
       "      <td>912578016</td>\n",
       "    </tr>\n",
       "    <tr>\n",
       "      <th>10000053</th>\n",
       "      <td>71567</td>\n",
       "      <td>2384</td>\n",
       "      <td>2</td>\n",
       "      <td>912578173</td>\n",
       "    </tr>\n",
       "  </tbody>\n",
       "</table>\n",
       "<p>10000054 rows × 4 columns</p>\n",
       "</div>"
      ],
      "text/plain": [
       "          user_id  item_id  rating  timestamp\n",
       "0               1      122       5  838985046\n",
       "1               1      185       5  838983525\n",
       "2               1      231       5  838983392\n",
       "3               1      292       5  838983421\n",
       "4               1      316       5  838983392\n",
       "...           ...      ...     ...        ...\n",
       "10000049    71567     2107       1  912580553\n",
       "10000050    71567     2126       2  912649143\n",
       "10000051    71567     2294       5  912577968\n",
       "10000052    71567     2338       2  912578016\n",
       "10000053    71567     2384       2  912578173\n",
       "\n",
       "[10000054 rows x 4 columns]"
      ]
     },
     "execution_count": 2,
     "metadata": {},
     "output_type": "execute_result"
    }
   ],
   "source": [
    "# ratings data\n",
    "file_path = 'datasets\\\\Movielens10M\\\\decompressed\\\\ml-10M100K\\\\ratings.dat'\n",
    "\n",
    "df_ratings = pd.read_csv(\n",
    "    file_path,\n",
    "    sep='::',\n",
    "    header=None,\n",
    "    dtype={0:int, 1:int, 2:int, 3:int},\n",
    "    engine='python'\n",
    ")\n",
    "\n",
    "df_ratings.columns = ['user_id', 'item_id', 'rating', 'timestamp']\n",
    "df_ratings"
   ]
  },
  {
   "cell_type": "markdown",
   "id": "f271028f-f00b-4653-99f6-1cd1cd5e6292",
   "metadata": {},
   "source": [
    "**getting tags data**"
   ]
  },
  {
   "cell_type": "code",
   "execution_count": 3,
   "id": "a4a2ffa3-8f27-47c5-a579-b37450d88f09",
   "metadata": {},
   "outputs": [],
   "source": [
    "# first, extract tags data\n",
    "zip_path = 'datasets/Movielens10M/movielens_10m.zip'\n",
    "file_name = 'ml-10M100K/tags.dat'\n",
    "target_dir = 'datasets/Movielens10M/decompressed'\n",
    "\n",
    "zip_file = zipfile.ZipFile(zip_path)\n",
    "file_path = zip_file.extract(file_name, path=target_dir)"
   ]
  },
  {
   "cell_type": "code",
   "execution_count": 4,
   "id": "4a4dc652-8aee-4338-a239-5fb51669de3f",
   "metadata": {},
   "outputs": [
    {
     "data": {
      "text/html": [
       "<div>\n",
       "<style scoped>\n",
       "    .dataframe tbody tr th:only-of-type {\n",
       "        vertical-align: middle;\n",
       "    }\n",
       "\n",
       "    .dataframe tbody tr th {\n",
       "        vertical-align: top;\n",
       "    }\n",
       "\n",
       "    .dataframe thead th {\n",
       "        text-align: right;\n",
       "    }\n",
       "</style>\n",
       "<table border=\"1\" class=\"dataframe\">\n",
       "  <thead>\n",
       "    <tr style=\"text-align: right;\">\n",
       "      <th></th>\n",
       "      <th>user_id</th>\n",
       "      <th>item_id</th>\n",
       "      <th>tag</th>\n",
       "      <th>timestamp</th>\n",
       "    </tr>\n",
       "  </thead>\n",
       "  <tbody>\n",
       "    <tr>\n",
       "      <th>0</th>\n",
       "      <td>15</td>\n",
       "      <td>4973</td>\n",
       "      <td>excellent!</td>\n",
       "      <td>1215184630</td>\n",
       "    </tr>\n",
       "    <tr>\n",
       "      <th>1</th>\n",
       "      <td>20</td>\n",
       "      <td>1747</td>\n",
       "      <td>politics</td>\n",
       "      <td>1188263867</td>\n",
       "    </tr>\n",
       "    <tr>\n",
       "      <th>2</th>\n",
       "      <td>20</td>\n",
       "      <td>1747</td>\n",
       "      <td>satire</td>\n",
       "      <td>1188263867</td>\n",
       "    </tr>\n",
       "    <tr>\n",
       "      <th>3</th>\n",
       "      <td>20</td>\n",
       "      <td>2424</td>\n",
       "      <td>chick flick 212</td>\n",
       "      <td>1188263835</td>\n",
       "    </tr>\n",
       "    <tr>\n",
       "      <th>4</th>\n",
       "      <td>20</td>\n",
       "      <td>2424</td>\n",
       "      <td>hanks</td>\n",
       "      <td>1188263835</td>\n",
       "    </tr>\n",
       "    <tr>\n",
       "      <th>...</th>\n",
       "      <td>...</td>\n",
       "      <td>...</td>\n",
       "      <td>...</td>\n",
       "      <td>...</td>\n",
       "    </tr>\n",
       "    <tr>\n",
       "      <th>95575</th>\n",
       "      <td>71556</td>\n",
       "      <td>1377</td>\n",
       "      <td>Gothic</td>\n",
       "      <td>1188263571</td>\n",
       "    </tr>\n",
       "    <tr>\n",
       "      <th>95576</th>\n",
       "      <td>71556</td>\n",
       "      <td>2424</td>\n",
       "      <td>chick flick</td>\n",
       "      <td>1188263606</td>\n",
       "    </tr>\n",
       "    <tr>\n",
       "      <th>95577</th>\n",
       "      <td>71556</td>\n",
       "      <td>3033</td>\n",
       "      <td>comedy</td>\n",
       "      <td>1188263626</td>\n",
       "    </tr>\n",
       "    <tr>\n",
       "      <th>95578</th>\n",
       "      <td>71556</td>\n",
       "      <td>3081</td>\n",
       "      <td>Gothic</td>\n",
       "      <td>1188263565</td>\n",
       "    </tr>\n",
       "    <tr>\n",
       "      <th>95579</th>\n",
       "      <td>71556</td>\n",
       "      <td>7438</td>\n",
       "      <td>Western</td>\n",
       "      <td>1188263589</td>\n",
       "    </tr>\n",
       "  </tbody>\n",
       "</table>\n",
       "<p>95580 rows × 4 columns</p>\n",
       "</div>"
      ],
      "text/plain": [
       "       user_id  item_id              tag   timestamp\n",
       "0           15     4973       excellent!  1215184630\n",
       "1           20     1747         politics  1188263867\n",
       "2           20     1747           satire  1188263867\n",
       "3           20     2424  chick flick 212  1188263835\n",
       "4           20     2424            hanks  1188263835\n",
       "...        ...      ...              ...         ...\n",
       "95575    71556     1377           Gothic  1188263571\n",
       "95576    71556     2424      chick flick  1188263606\n",
       "95577    71556     3033           comedy  1188263626\n",
       "95578    71556     3081           Gothic  1188263565\n",
       "95579    71556     7438          Western  1188263589\n",
       "\n",
       "[95580 rows x 4 columns]"
      ]
     },
     "execution_count": 4,
     "metadata": {},
     "output_type": "execute_result"
    }
   ],
   "source": [
    "# tags data\n",
    "df_tags = pd.read_csv(\n",
    "    file_path,\n",
    "    sep='::',\n",
    "    header=None,\n",
    "    dtype={0:int, 1:int, 2:str, 3:int},\n",
    "    engine='python'\n",
    ")\n",
    "\n",
    "df_tags.columns = ['user_id', 'item_id', 'tag', 'timestamp']\n",
    "df_tags"
   ]
  },
  {
   "cell_type": "code",
   "execution_count": 5,
   "id": "64a4c2e8-13ef-45a0-8527-a153d7dd67b0",
   "metadata": {},
   "outputs": [
    {
     "name": "stdout",
     "output_type": "stream",
     "text": [
      "N Unique Tags:  16529\n",
      "N Unique Users (Tags DF):  4009\n",
      "N Unique Items (Tags DF):  7601\n",
      "N Iteractions (Tags DF): 95580\n"
     ]
    }
   ],
   "source": [
    "unique_tags = df_tags['tag'].unique()\n",
    "tags_unique_users = df_tags['user_id'].unique()\n",
    "tags_unique_items = df_tags['item_id'].unique()\n",
    "\n",
    "print('N Unique Tags: ', unique_tags.shape[0])\n",
    "print('N Unique Users (Tags DF): ', tags_unique_users.shape[0])\n",
    "print('N Unique Items (Tags DF): ', tags_unique_items.shape[0])\n",
    "print(f'N Iteractions (Tags DF): {df_tags.shape[0]}')"
   ]
  },
  {
   "cell_type": "markdown",
   "id": "0f2cfc8c-a1b7-44a4-983c-55bd21fab495",
   "metadata": {},
   "source": [
    "**Only a few users and items have tags**"
   ]
  },
  {
   "cell_type": "markdown",
   "id": "ea5dc6c1-e492-415f-9a64-0b494fe6dfcf",
   "metadata": {},
   "source": [
    "### 2. Sparse Matrices Creation"
   ]
  },
  {
   "cell_type": "markdown",
   "id": "905289c1-fc22-4c8f-96fb-9784fe00070f",
   "metadata": {},
   "source": [
    "Convert our `df_ratings` and `df_tags` into sparse matrices. However, we may have a small problem with `df_tags`, tags have string format that we need to convert into numbers.\n",
    "\n",
    "Besides, we must also ensure that user and item indices that we use in `df_ratings` and `df_tags` are consistent. **To do so we use the same mapper**. First we get indices from `df_ratings` and then add new ids that appear only in `df_tags`"
   ]
  },
  {
   "cell_type": "code",
   "execution_count": 6,
   "id": "61daf634-6dd5-4036-aa7b-6537a582964f",
   "metadata": {},
   "outputs": [
    {
     "name": "stdout",
     "output_type": "stream",
     "text": [
      "N Unique Users in Ratings DF:  69878\n",
      "N Unique Items in Ratings DF:  10677\n"
     ]
    }
   ],
   "source": [
    "mapped_user_id, original_user_id = pd.factorize(df_ratings['user_id']) \n",
    "print('N Unique Users in Ratings DF: ', len(original_user_id))\n",
    "\n",
    "mapped_item_id, original_item_id = pd.factorize(df_ratings['item_id']) \n",
    "print('N Unique Items in Ratings DF: ', len(original_item_id))"
   ]
  },
  {
   "cell_type": "code",
   "execution_count": 7,
   "id": "5dea9bf0-398d-46fd-abe1-c715031186c4",
   "metadata": {},
   "outputs": [
    {
     "name": "stdout",
     "output_type": "stream",
     "text": [
      "N Unique Users in Ratings DF and Tags DF:  71567\n",
      "N Unique Itmes in Ratings DF and Tags DF:  10681\n"
     ]
    }
   ],
   "source": [
    "user_indices_all = pd.concat(\n",
    "    [df_ratings['user_id'], df_tags['user_id']],\n",
    "    ignore_index=True, axis='rows'\n",
    ")\n",
    "\n",
    "mapped_user_id_all, original_user_id_all = pd.factorize(user_indices_all)\n",
    "print('N Unique Users in Ratings DF and Tags DF: ', len(original_user_id_all))\n",
    "\n",
    "item_indices_all = pd.concat(\n",
    "    [df_ratings['item_id'], df_tags['item_id']],\n",
    "    ignore_index=True, axis='rows'\n",
    ")\n",
    "\n",
    "mapped_item_id_all, original_item_id_all = pd.factorize(item_indices_all)\n",
    "print('N Unique Itmes in Ratings DF and Tags DF: ', len(original_item_id_all))"
   ]
  },
  {
   "cell_type": "markdown",
   "id": "9c254ec0-f06b-45da-8758-431039761eb6",
   "metadata": {},
   "source": [
    "After \"joining\" `df_tags` we obtain more users and interacted items "
   ]
  },
  {
   "cell_type": "code",
   "execution_count": 24,
   "id": "eb8986b8-ae7b-4710-a64e-43058a78f156",
   "metadata": {},
   "outputs": [
    {
     "ename": "ValueError",
     "evalue": "Length of passed values is 16529, index implies 16528.",
     "output_type": "error",
     "traceback": [
      "\u001b[1;31m---------------------------------------------------------------------------\u001b[0m",
      "\u001b[1;31mValueError\u001b[0m                                Traceback (most recent call last)",
      "\u001b[1;32m<ipython-input-24-8d97534f0090>\u001b[0m in \u001b[0;36m<module>\u001b[1;34m\u001b[0m\n\u001b[0;32m      1\u001b[0m \u001b[0mmapped_tag_id\u001b[0m\u001b[1;33m,\u001b[0m \u001b[0moriginal_tag_id\u001b[0m \u001b[1;33m=\u001b[0m \u001b[0mpd\u001b[0m\u001b[1;33m.\u001b[0m\u001b[0mfactorize\u001b[0m\u001b[1;33m(\u001b[0m\u001b[0mdf_tags\u001b[0m\u001b[1;33m[\u001b[0m\u001b[1;34m'tag'\u001b[0m\u001b[1;33m]\u001b[0m\u001b[1;33m.\u001b[0m\u001b[0munique\u001b[0m\u001b[1;33m(\u001b[0m\u001b[1;33m)\u001b[0m\u001b[1;33m)\u001b[0m\u001b[1;33m\u001b[0m\u001b[1;33m\u001b[0m\u001b[0m\n\u001b[1;32m----> 2\u001b[1;33m \u001b[0moriginal_tag_id_indexed\u001b[0m \u001b[1;33m=\u001b[0m \u001b[0mpd\u001b[0m\u001b[1;33m.\u001b[0m\u001b[0mSeries\u001b[0m\u001b[1;33m(\u001b[0m\u001b[0mmapped_tag_id\u001b[0m\u001b[1;33m,\u001b[0m \u001b[0mindex\u001b[0m\u001b[1;33m=\u001b[0m\u001b[0moriginal_tag_id\u001b[0m\u001b[1;33m)\u001b[0m\u001b[1;33m\u001b[0m\u001b[1;33m\u001b[0m\u001b[0m\n\u001b[0m\u001b[0;32m      3\u001b[0m \u001b[0moriginal_tag_id_indexed\u001b[0m\u001b[1;33m\u001b[0m\u001b[1;33m\u001b[0m\u001b[0m\n",
      "\u001b[1;32mc:\\users\\vlad\\appdata\\local\\programs\\python\\python37\\lib\\site-packages\\pandas\\core\\series.py\u001b[0m in \u001b[0;36m__init__\u001b[1;34m(self, data, index, dtype, name, copy, fastpath)\u001b[0m\n\u001b[0;32m    349\u001b[0m                     \u001b[1;32mif\u001b[0m \u001b[0mlen\u001b[0m\u001b[1;33m(\u001b[0m\u001b[0mindex\u001b[0m\u001b[1;33m)\u001b[0m \u001b[1;33m!=\u001b[0m \u001b[0mlen\u001b[0m\u001b[1;33m(\u001b[0m\u001b[0mdata\u001b[0m\u001b[1;33m)\u001b[0m\u001b[1;33m:\u001b[0m\u001b[1;33m\u001b[0m\u001b[1;33m\u001b[0m\u001b[0m\n\u001b[0;32m    350\u001b[0m                         raise ValueError(\n\u001b[1;32m--> 351\u001b[1;33m                             \u001b[1;34mf\"Length of passed values is {len(data)}, \"\u001b[0m\u001b[1;33m\u001b[0m\u001b[1;33m\u001b[0m\u001b[0m\n\u001b[0m\u001b[0;32m    352\u001b[0m                             \u001b[1;34mf\"index implies {len(index)}.\"\u001b[0m\u001b[1;33m\u001b[0m\u001b[1;33m\u001b[0m\u001b[0m\n\u001b[0;32m    353\u001b[0m                         )\n",
      "\u001b[1;31mValueError\u001b[0m: Length of passed values is 16529, index implies 16528."
     ]
    }
   ],
   "source": [
    "mapped_tag_id, original_tag_id = pd.factorize(df_tags['tag'].unique())\n",
    "original_tag_id_indexed = pd.Series(mapped_tag_id, index=original_tag_id)\n",
    "original_tag_id_indexed"
   ]
  },
  {
   "cell_type": "code",
   "execution_count": null,
   "id": "59ffde64-4d1a-4a53-8074-79a026cbcb16",
   "metadata": {},
   "outputs": [],
   "source": []
  },
  {
   "cell_type": "code",
   "execution_count": null,
   "id": "df8bfa05-9f9c-423f-b95d-f2ca1f26ea69",
   "metadata": {},
   "outputs": [],
   "source": []
  },
  {
   "cell_type": "code",
   "execution_count": null,
   "id": "fc5844f5-9638-47bb-b94f-902b8f890093",
   "metadata": {},
   "outputs": [],
   "source": []
  },
  {
   "cell_type": "code",
   "execution_count": null,
   "id": "58e45576-78d6-4bde-bd0c-07b82d666bfb",
   "metadata": {},
   "outputs": [],
   "source": []
  },
  {
   "cell_type": "code",
   "execution_count": null,
   "id": "8f711745-322c-432b-a870-ea484b213154",
   "metadata": {},
   "outputs": [],
   "source": [
    "mapped_id, original_id = pd.factorize(ICM_dataframe[\"FeatureID\"].unique())\n",
    "feature_original_ID_to_index = pd.Series(mapped_id, index=original_id)\n",
    "\n",
    "print(\"Unique FeatureID in the URM are {}\".format(len(feature_original_ID_to_index)))"
   ]
  }
 ],
 "metadata": {
  "kernelspec": {
   "display_name": "Python 3",
   "language": "python",
   "name": "python3"
  },
  "language_info": {
   "codemirror_mode": {
    "name": "ipython",
    "version": 3
   },
   "file_extension": ".py",
   "mimetype": "text/x-python",
   "name": "python",
   "nbconvert_exporter": "python",
   "pygments_lexer": "ipython3",
   "version": "3.7.9"
  }
 },
 "nbformat": 4,
 "nbformat_minor": 5
}
