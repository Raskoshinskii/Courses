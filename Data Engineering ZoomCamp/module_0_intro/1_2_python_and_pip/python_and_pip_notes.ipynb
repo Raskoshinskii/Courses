{
 "cells": [
  {
   "cell_type": "markdown",
   "metadata": {},
   "source": [
    "### How to Install Python (Ubuntu)?\n",
    "Python can be installed with and without `pip`. Before installing any software on Ubuntu, it is **recommended updating apt first**\n",
    "- `sudo apt update`\n",
    "\n",
    "\n",
    "**Python with Pip**\n",
    "1. Run: `sudo apt install python3-dev python3-pip`\n",
    "2. Verify installation: `python3 --version`, `pip3 --version`\n",
    "\n",
    "\n",
    "**Python no Pip**\n",
    "1. Run: `sudo apt install python3`\n",
    "2. Verify installation: `python3 --version`\n",
    "3. Download `get-pip.py`:\n",
    "    - `curl https://bootstrap.pypa.io/get-pip.py -o get-pip.py`\n",
    "4. Install pip by running:\n",
    "    - `python3 get-pip.py`\n",
    "5. Once pip is installed, remove `get-pip.py`:\n",
    "    - `rm get-pip.py`"
   ]
  },
  {
   "cell_type": "markdown",
   "metadata": {},
   "source": [
    "### PATH Variables\n",
    "The \"PATH\" variable is an **environment variable** on OS (Unix/Linux, macOS or Windows). It specifies a **set of directories where executable programs are located** (address of a file or folder on your hard drive). When you run a command in the terminal or command prompt, the OS searches through these directories in order to find the executable corresponding to the command you entered.\n",
    "\n",
    "\n",
    "### PATH Variable Example\n",
    "- `path/to/variable_a:path/to/variable_b:path/to/variable_c` -> 3 variables separated by `:`\n",
    "\n",
    "\n",
    "**Why PATH is Convenient?**\n",
    "\n",
    "1. Locates Executables:\n",
    "- When you type a command in the terminal or command prompt, such as `ls` or `python`, the OS looks in each directory listed in the `\"PATH\"` variable to find the corresponding executable file\n",
    "2. Convenient Execution:\n",
    "- No need to type all path to executable, only executable name:\n",
    "    - No PATH variable: `/usr/bin/python3`\n",
    "    - PATH variable: `python3`\n",
    "\n",
    "\n",
    "Each user has its own folder in Ubuntu. In user's home folder we have configuration scripts. These files have dots and called **dotfiles:**\n",
    "- `.profile`\n",
    "- `.bashrc`\n",
    "- `.bash_login`\n",
    "- `.zprofile`\n",
    "- ...\n",
    "\n",
    "### How to Add Variable to PATH?\n",
    "1. Identify Variable Installation Directory (e.g. `which python3`)\n",
    "2. Edit `.bashrc` or `.profile` -> `nano ~/.bashrc`\n",
    "3. Add Variable to PATH: `export PATH=\"/path/to/variable:$PATH\"`\n",
    "4. Save and reload the terminal -> `source ~/.bashrc`\n",
    "\n",
    "When we write `PATH=\"/path/to/python:$PATH\"`, we are updating the `PATH` variable -> **append new variable at the beginning** of the file."
   ]
  },
  {
   "cell_type": "markdown",
   "metadata": {},
   "source": [
    "**Keep in Mind**\n",
    "- All paths in `PATH` must be directories and not executables.\n",
    "- Only executables are searching -> variable in cmd must be executable\n",
    "- `.bashrc` stands for bash run command (rc)\n",
    "- The OS searches the directories in the order they appear in the `\"PATH\"`. If there are multiple executables with the same name in different directories, the one found first in the `\"PATH\"` is executed.\n",
    "- `$PATH` is a reference to the existing `PATH` environment variable. By including `$PATH` at the end of the new `PATH` value, we ensure that the existing `PATH` directories are preserved and appended to the new value.\n",
    "\n",
    "\n",
    "### CMD Typing Mastering\n",
    "In order to write cmd command efficiently, use the following keyboard combinations:\n",
    "\n",
    "\n",
    "### Important\n",
    "- If `python` or `pip` is not available, run `python3` and `pip3`"
   ]
  }
 ],
 "metadata": {
  "language_info": {
   "name": "python"
  }
 },
 "nbformat": 4,
 "nbformat_minor": 2
}
