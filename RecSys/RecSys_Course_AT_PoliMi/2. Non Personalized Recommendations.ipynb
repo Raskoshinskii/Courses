{
 "cells": [
  {
   "cell_type": "markdown",
   "id": "25886a69-5d76-485f-8d68-9bf84cc4797c",
   "metadata": {},
   "source": [
    "### Non Personalized Recommendations\n",
    "**Movielens 10 million dataset** is going to be used to build a recommender system. The dataset represents interactions between users and films."
   ]
  },
  {
   "cell_type": "code",
   "execution_count": 1,
   "id": "d456f128-d7d7-456a-b735-d7d0dbd6ac8e",
   "metadata": {},
   "outputs": [],
   "source": [
    "import os\n",
    "import zipfile\n",
    "\n",
    "import pandas as pd\n",
    "import numpy as np\n",
    "import scipy.sparse as sps\n",
    "\n",
    "import matplotlib.pyplot as plt\n",
    "import seaborn as sns\n",
    "\n",
    "from urllib.request import urlretrieve"
   ]
  },
  {
   "cell_type": "markdown",
   "id": "15909121-5a6f-430d-b621-c623f1ccafcc",
   "metadata": {},
   "source": [
    "### 1. Dowloading the Data"
   ]
  },
  {
   "cell_type": "code",
   "execution_count": 2,
   "id": "c67cf45f-5a21-4baa-b073-fe17cd9c3225",
   "metadata": {},
   "outputs": [],
   "source": [
    "# If file exists, skip the download\n",
    "data_dir = \"datasets/Movielens10M/\"\n",
    "zip_data = data_dir + 'movielens_10m.zip'\n",
    "zip_url = 'http://files.grouplens.org/datasets/movielens/ml-10m.zip'\n",
    "\n",
    "# If directory does not exist, create\n",
    "if not os.path.exists(data_dir):\n",
    "    os.makedirs(data_dir)\n",
    "\n",
    "if not os.path.exists(zip_data):\n",
    "    urlretrieve(zip_url, zip_data)"
   ]
  },
  {
   "cell_type": "code",
   "execution_count": 3,
   "id": "d83f76fb-53a0-479e-ad3d-a25667dccd93",
   "metadata": {},
   "outputs": [],
   "source": [
    "# extract rating data\n",
    "# first, extract tags data\n",
    "zip_path = 'datasets/Movielens10M/movielens_10m.zip'\n",
    "file_name = 'ml-10M100K/ratings.dat'\n",
    "target_dir = 'datasets/Movielens10M/decompressed'\n",
    "\n",
    "zip_file = zipfile.ZipFile(zip_path)\n",
    "file_path = zip_file.extract(file_name, path=target_dir)"
   ]
  },
  {
   "cell_type": "code",
   "execution_count": 4,
   "id": "20d66763-205a-4c8b-901c-77acc9e21076",
   "metadata": {},
   "outputs": [
    {
     "data": {
      "text/html": [
       "<div>\n",
       "<style scoped>\n",
       "    .dataframe tbody tr th:only-of-type {\n",
       "        vertical-align: middle;\n",
       "    }\n",
       "\n",
       "    .dataframe tbody tr th {\n",
       "        vertical-align: top;\n",
       "    }\n",
       "\n",
       "    .dataframe thead th {\n",
       "        text-align: right;\n",
       "    }\n",
       "</style>\n",
       "<table border=\"1\" class=\"dataframe\">\n",
       "  <thead>\n",
       "    <tr style=\"text-align: right;\">\n",
       "      <th></th>\n",
       "      <th>user_id</th>\n",
       "      <th>item_id</th>\n",
       "      <th>rating</th>\n",
       "      <th>timestamp</th>\n",
       "    </tr>\n",
       "  </thead>\n",
       "  <tbody>\n",
       "    <tr>\n",
       "      <th>0</th>\n",
       "      <td>1</td>\n",
       "      <td>122</td>\n",
       "      <td>5.0</td>\n",
       "      <td>838985046</td>\n",
       "    </tr>\n",
       "    <tr>\n",
       "      <th>1</th>\n",
       "      <td>1</td>\n",
       "      <td>185</td>\n",
       "      <td>5.0</td>\n",
       "      <td>838983525</td>\n",
       "    </tr>\n",
       "    <tr>\n",
       "      <th>2</th>\n",
       "      <td>1</td>\n",
       "      <td>231</td>\n",
       "      <td>5.0</td>\n",
       "      <td>838983392</td>\n",
       "    </tr>\n",
       "    <tr>\n",
       "      <th>3</th>\n",
       "      <td>1</td>\n",
       "      <td>292</td>\n",
       "      <td>5.0</td>\n",
       "      <td>838983421</td>\n",
       "    </tr>\n",
       "    <tr>\n",
       "      <th>4</th>\n",
       "      <td>1</td>\n",
       "      <td>316</td>\n",
       "      <td>5.0</td>\n",
       "      <td>838983392</td>\n",
       "    </tr>\n",
       "    <tr>\n",
       "      <th>...</th>\n",
       "      <td>...</td>\n",
       "      <td>...</td>\n",
       "      <td>...</td>\n",
       "      <td>...</td>\n",
       "    </tr>\n",
       "    <tr>\n",
       "      <th>10000049</th>\n",
       "      <td>71567</td>\n",
       "      <td>2107</td>\n",
       "      <td>1.0</td>\n",
       "      <td>912580553</td>\n",
       "    </tr>\n",
       "    <tr>\n",
       "      <th>10000050</th>\n",
       "      <td>71567</td>\n",
       "      <td>2126</td>\n",
       "      <td>2.0</td>\n",
       "      <td>912649143</td>\n",
       "    </tr>\n",
       "    <tr>\n",
       "      <th>10000051</th>\n",
       "      <td>71567</td>\n",
       "      <td>2294</td>\n",
       "      <td>5.0</td>\n",
       "      <td>912577968</td>\n",
       "    </tr>\n",
       "    <tr>\n",
       "      <th>10000052</th>\n",
       "      <td>71567</td>\n",
       "      <td>2338</td>\n",
       "      <td>2.0</td>\n",
       "      <td>912578016</td>\n",
       "    </tr>\n",
       "    <tr>\n",
       "      <th>10000053</th>\n",
       "      <td>71567</td>\n",
       "      <td>2384</td>\n",
       "      <td>2.0</td>\n",
       "      <td>912578173</td>\n",
       "    </tr>\n",
       "  </tbody>\n",
       "</table>\n",
       "<p>10000054 rows × 4 columns</p>\n",
       "</div>"
      ],
      "text/plain": [
       "          user_id  item_id  rating  timestamp\n",
       "0               1      122     5.0  838985046\n",
       "1               1      185     5.0  838983525\n",
       "2               1      231     5.0  838983392\n",
       "3               1      292     5.0  838983421\n",
       "4               1      316     5.0  838983392\n",
       "...           ...      ...     ...        ...\n",
       "10000049    71567     2107     1.0  912580553\n",
       "10000050    71567     2126     2.0  912649143\n",
       "10000051    71567     2294     5.0  912577968\n",
       "10000052    71567     2338     2.0  912578016\n",
       "10000053    71567     2384     2.0  912578173\n",
       "\n",
       "[10000054 rows x 4 columns]"
      ]
     },
     "execution_count": 4,
     "metadata": {},
     "output_type": "execute_result"
    }
   ],
   "source": [
    "df = pd.read_csv(\n",
    "    file_path,\n",
    "    sep='::',\n",
    "    header=None,\n",
    "    dtype={0:int, 1:int, 2:float, 3:int},\n",
    "    engine='python'\n",
    ")\n",
    "\n",
    "df.columns = ['user_id', 'item_id', 'rating', 'timestamp']\n",
    "df"
   ]
  },
  {
   "cell_type": "code",
   "execution_count": 5,
   "id": "00941dc1-825b-4bd5-801e-6d7f15c4acae",
   "metadata": {},
   "outputs": [
    {
     "name": "stdout",
     "output_type": "stream",
     "text": [
      "The number of interactions is 10000054\n"
     ]
    }
   ],
   "source": [
    "print(f'The number of interactions is {df.shape[0]}')"
   ]
  },
  {
   "cell_type": "markdown",
   "id": "d0711dd5-235a-4420-a26a-1b3d9e454e83",
   "metadata": {},
   "source": [
    "### 2. EDA"
   ]
  },
  {
   "cell_type": "markdown",
   "id": "25d8fef2-b779-49b9-9a74-feadd30b3292",
   "metadata": {},
   "source": [
    "**Basic statistics**"
   ]
  },
  {
   "cell_type": "code",
   "execution_count": 6,
   "id": "8a5405f0-6049-45af-916f-7846d9971edd",
   "metadata": {},
   "outputs": [
    {
     "name": "stdout",
     "output_type": "stream",
     "text": [
      "N Unique Users:  69878\n",
      "N Unique Items:  10677\n",
      "N Interactions:  10000054\n"
     ]
    }
   ],
   "source": [
    "uu = df['user_id'].unique()\n",
    "ui = df['item_id'].unique()\n",
    "\n",
    "print('N Unique Users: ', uu.shape[0])\n",
    "print('N Unique Items: ', ui.shape[0])\n",
    "print('N Interactions: ', df.shape[0])"
   ]
  },
  {
   "cell_type": "markdown",
   "id": "64cce117-d53e-4d98-862d-9548b5b9af59",
   "metadata": {},
   "source": [
    "**Important note**\n",
    "\n",
    "If we check number of *unique users/unique items* and compare with the *max(user_id/item_id)* we will see that *n_uu < max(user_id)*. This is due to empty profile, let's reindex the DataFrame"
   ]
  },
  {
   "cell_type": "code",
   "execution_count": 23,
   "id": "d8f9490f-1f18-42b8-803e-d5872c8e13da",
   "metadata": {},
   "outputs": [
    {
     "name": "stdout",
     "output_type": "stream",
     "text": [
      "Missing user_id:  [24 26 27 28 29 30 33 34 35 36]\n",
      "Missing item_id:  [ 90  92  93  94  95  96  97  98  99 100 101]\n"
     ]
    }
   ],
   "source": [
    "# we have missing user_id and item_id\n",
    "print('Missing user_id: ', uu[20:30])\n",
    "print('Missing item_id: ', np.sort(ui)[89:100])"
   ]
  },
  {
   "cell_type": "markdown",
   "id": "7143afdb-b4fa-49a9-be69-6883a687e769",
   "metadata": {},
   "source": [
    "**pd.factorize()**\n",
    "\n",
    "This is useful function for our recommendations. "
   ]
  },
  {
   "cell_type": "code",
   "execution_count": 9,
   "id": "0b1e8294-2f6b-4312-aac3-d86c270b7059",
   "metadata": {},
   "outputs": [
    {
     "name": "stdout",
     "output_type": "stream",
     "text": [
      "Indices:  [0 1 2 0 1 1]\n",
      "Unique Elements:  ['iPhone' 'Samsung' 'Nokia']\n"
     ]
    }
   ],
   "source": [
    "# examples\n",
    "items = ['iPhone', 'Samsung', 'Nokia', 'iPhone', 'Samsung', 'Samsung']\n",
    "indices, uniques = pd.factorize(items)\n",
    "\n",
    "print('Indices: ', indices)\n",
    "print('Unique Elements: ', uniques)"
   ]
  },
  {
   "cell_type": "code",
   "execution_count": 24,
   "id": "465e637b-fa50-409a-8ab4-088334b2f042",
   "metadata": {},
   "outputs": [],
   "source": [
    "# correct user_id and item_id\n",
    "new_index, original_id = pd.factorize(uu) # returns unique elements and its indices\n",
    "user_id_new = pd.Series(new_index, index=original_id) # use old user_id as index \n",
    "\n",
    "new_index, original_id = pd.factorize(ui)\n",
    "item_id_new = pd.Series(new_index, index=original_id)"
   ]
  },
  {
   "cell_type": "code",
   "execution_count": 26,
   "id": "8a0153ce-ca61-4866-a20d-c2a5bee7c0d7",
   "metadata": {},
   "outputs": [
    {
     "data": {
      "text/plain": [
       "1            0\n",
       "2            1\n",
       "3            2\n",
       "4            3\n",
       "5            4\n",
       "         ...  \n",
       "71563    69873\n",
       "71564    69874\n",
       "71565    69875\n",
       "71566    69876\n",
       "71567    69877\n",
       "Length: 69878, dtype: int64"
      ]
     },
     "metadata": {},
     "output_type": "display_data"
    },
    {
     "name": "stdout",
     "output_type": "stream",
     "text": [
      "\n"
     ]
    },
    {
     "data": {
      "text/plain": [
       "122          0\n",
       "185          1\n",
       "231          2\n",
       "292          3\n",
       "316          4\n",
       "         ...  \n",
       "7537     10672\n",
       "63481    10673\n",
       "64652    10674\n",
       "64427    10675\n",
       "63662    10676\n",
       "Length: 10677, dtype: int64"
      ]
     },
     "metadata": {},
     "output_type": "display_data"
    }
   ],
   "source": [
    "# got mapping (old_id : new_id)\n",
    "display(user_id_new)\n",
    "print()\n",
    "display(item_id_new)"
   ]
  },
  {
   "cell_type": "code",
   "execution_count": 27,
   "id": "83013f43-1815-4fea-93c0-bc738b584157",
   "metadata": {},
   "outputs": [
    {
     "name": "stdout",
     "output_type": "stream",
     "text": [
      "New index for item 292 is 3\n"
     ]
    }
   ],
   "source": [
    "item_id = 292\n",
    "print(f\"New index for item {item_id} is {item_id_new[item_id]}\")"
   ]
  },
  {
   "cell_type": "code",
   "execution_count": 28,
   "id": "42dcb93b-a81f-4bd3-917e-4e6391cb12d5",
   "metadata": {},
   "outputs": [
    {
     "data": {
      "text/html": [
       "<div>\n",
       "<style scoped>\n",
       "    .dataframe tbody tr th:only-of-type {\n",
       "        vertical-align: middle;\n",
       "    }\n",
       "\n",
       "    .dataframe tbody tr th {\n",
       "        vertical-align: top;\n",
       "    }\n",
       "\n",
       "    .dataframe thead th {\n",
       "        text-align: right;\n",
       "    }\n",
       "</style>\n",
       "<table border=\"1\" class=\"dataframe\">\n",
       "  <thead>\n",
       "    <tr style=\"text-align: right;\">\n",
       "      <th></th>\n",
       "      <th>user_id</th>\n",
       "      <th>item_id</th>\n",
       "      <th>rating</th>\n",
       "      <th>timestamp</th>\n",
       "    </tr>\n",
       "  </thead>\n",
       "  <tbody>\n",
       "    <tr>\n",
       "      <th>0</th>\n",
       "      <td>0</td>\n",
       "      <td>0</td>\n",
       "      <td>5.0</td>\n",
       "      <td>838985046</td>\n",
       "    </tr>\n",
       "    <tr>\n",
       "      <th>1</th>\n",
       "      <td>0</td>\n",
       "      <td>1</td>\n",
       "      <td>5.0</td>\n",
       "      <td>838983525</td>\n",
       "    </tr>\n",
       "    <tr>\n",
       "      <th>2</th>\n",
       "      <td>0</td>\n",
       "      <td>2</td>\n",
       "      <td>5.0</td>\n",
       "      <td>838983392</td>\n",
       "    </tr>\n",
       "    <tr>\n",
       "      <th>3</th>\n",
       "      <td>0</td>\n",
       "      <td>3</td>\n",
       "      <td>5.0</td>\n",
       "      <td>838983421</td>\n",
       "    </tr>\n",
       "    <tr>\n",
       "      <th>4</th>\n",
       "      <td>0</td>\n",
       "      <td>4</td>\n",
       "      <td>5.0</td>\n",
       "      <td>838983392</td>\n",
       "    </tr>\n",
       "    <tr>\n",
       "      <th>...</th>\n",
       "      <td>...</td>\n",
       "      <td>...</td>\n",
       "      <td>...</td>\n",
       "      <td>...</td>\n",
       "    </tr>\n",
       "    <tr>\n",
       "      <th>10000049</th>\n",
       "      <td>69877</td>\n",
       "      <td>518</td>\n",
       "      <td>1.0</td>\n",
       "      <td>912580553</td>\n",
       "    </tr>\n",
       "    <tr>\n",
       "      <th>10000050</th>\n",
       "      <td>69877</td>\n",
       "      <td>1660</td>\n",
       "      <td>2.0</td>\n",
       "      <td>912649143</td>\n",
       "    </tr>\n",
       "    <tr>\n",
       "      <th>10000051</th>\n",
       "      <td>69877</td>\n",
       "      <td>537</td>\n",
       "      <td>5.0</td>\n",
       "      <td>912577968</td>\n",
       "    </tr>\n",
       "    <tr>\n",
       "      <th>10000052</th>\n",
       "      <td>69877</td>\n",
       "      <td>541</td>\n",
       "      <td>2.0</td>\n",
       "      <td>912578016</td>\n",
       "    </tr>\n",
       "    <tr>\n",
       "      <th>10000053</th>\n",
       "      <td>69877</td>\n",
       "      <td>1671</td>\n",
       "      <td>2.0</td>\n",
       "      <td>912578173</td>\n",
       "    </tr>\n",
       "  </tbody>\n",
       "</table>\n",
       "<p>10000054 rows × 4 columns</p>\n",
       "</div>"
      ],
      "text/plain": [
       "          user_id  item_id  rating  timestamp\n",
       "0               0        0     5.0  838985046\n",
       "1               0        1     5.0  838983525\n",
       "2               0        2     5.0  838983392\n",
       "3               0        3     5.0  838983421\n",
       "4               0        4     5.0  838983392\n",
       "...           ...      ...     ...        ...\n",
       "10000049    69877      518     1.0  912580553\n",
       "10000050    69877     1660     2.0  912649143\n",
       "10000051    69877      537     5.0  912577968\n",
       "10000052    69877      541     2.0  912578016\n",
       "10000053    69877     1671     2.0  912578173\n",
       "\n",
       "[10000054 rows x 4 columns]"
      ]
     },
     "execution_count": 28,
     "metadata": {},
     "output_type": "execute_result"
    }
   ],
   "source": [
    "# apply reindexing \n",
    "df['user_id'] = df['user_id'].map(user_id_new)\n",
    "df['item_id'] = df['item_id'].map(item_id_new)\n",
    "df"
   ]
  },
  {
   "cell_type": "code",
   "execution_count": 29,
   "id": "80743afc-dcec-4367-9fa1-6b324b0e7955",
   "metadata": {},
   "outputs": [
    {
     "name": "stdout",
     "output_type": "stream",
     "text": [
      "N Unique Users:  69878\n",
      "N Unique Items:  10677\n",
      "N Interactions:  10000054\n"
     ]
    }
   ],
   "source": [
    "uu = df['user_id'].unique()\n",
    "ui = df['item_id'].unique()\n",
    "\n",
    "n_uu = uu.shape[0]\n",
    "n_ui = ui.shape[0]\n",
    "n_interactions = df.shape[0]\n",
    "\n",
    "print('N Unique Users: ', n_uu)\n",
    "print('N Unique Items: ', n_ui)\n",
    "print('N Interactions: ', n_interactions)"
   ]
  },
  {
   "cell_type": "code",
   "execution_count": 30,
   "id": "4d8ca594-dd8f-4a9e-9f22-84488a5def29",
   "metadata": {},
   "outputs": [
    {
     "data": {
      "text/plain": [
       "(69877, 10676)"
      ]
     },
     "execution_count": 30,
     "metadata": {},
     "output_type": "execute_result"
    }
   ],
   "source": [
    "max(df['user_id']), max(df['item_id'])"
   ]
  },
  {
   "cell_type": "markdown",
   "id": "c050311f-3af0-40f9-bf80-ab2f82ae318e",
   "metadata": {},
   "source": [
    "**Now indices are correct**"
   ]
  },
  {
   "cell_type": "code",
   "execution_count": 32,
   "id": "e948f88f-4067-485d-a0a9-2132ff184d6f",
   "metadata": {},
   "outputs": [
    {
     "name": "stdout",
     "output_type": "stream",
     "text": [
      "Average interactions per user 143.11\n",
      "Average interactions per item 936.60\n",
      "\n",
      "Sparsity 98.66 %\n"
     ]
    }
   ],
   "source": [
    "user_avg_inter = n_interactions / n_uu\n",
    "item_avg_inter = n_interactions / n_ui\n",
    "sparsity = (1 - (n_interactions / (n_uu * n_ui)))*100 # 1 - n_inter / (n_uu * n_ui)\n",
    "\n",
    "print(\"Average interactions per user {:.2f}\".format(user_avg_inter))\n",
    "print(\"Average interactions per item {:.2f}\\n\".format(item_avg_inter))\n",
    "print(\"Sparsity {:.2f} %\".format(sparsity))"
   ]
  },
  {
   "cell_type": "markdown",
   "id": "14dcace1-2f78-4eeb-94fb-529f2c2a657e",
   "metadata": {},
   "source": [
    "**Rating Distribution in Time**"
   ]
  },
  {
   "cell_type": "code",
   "execution_count": 33,
   "id": "4b2be820-0e72-41fe-827e-5d94967f1d0e",
   "metadata": {},
   "outputs": [
    {
     "data": {
      "image/png": "[encoded data removed]",
      "text/plain": [
       "<Figure size 864x432 with 1 Axes>"
      ]
     },
     "metadata": {
      "needs_background": "light"
     },
     "output_type": "display_data"
    }
   ],
   "source": [
    "time_sorted = df['timestamp'].values.copy()\n",
    "time_sorted.sort()\n",
    "\n",
    "plt.figure(figsize=(12, 6))\n",
    "plt.plot(time_sorted)\n",
    "plt.xlabel('Sorted Item')\n",
    "plt.ylabel('Timestamp')\n",
    "plt.grid();"
   ]
  },
  {
   "cell_type": "markdown",
   "id": "aebc2f3c-3e6f-4c71-b833-02778df99a70",
   "metadata": {},
   "source": [
    "### 3. Sparse Matrix Creation\n",
    "First, let's create a *coo matrix* and later change its format"
   ]
  },
  {
   "cell_type": "code",
   "execution_count": 34,
   "id": "a2471dba-7558-45c9-9f1d-4e3a5052a4a9",
   "metadata": {},
   "outputs": [
    {
     "data": {
      "text/plain": [
       "<69878x10677 sparse matrix of type '<class 'numpy.float64'>'\n",
       "\twith 10000054 stored elements in COOrdinate format>"
      ]
     },
     "execution_count": 34,
     "metadata": {},
     "output_type": "execute_result"
    }
   ],
   "source": [
    "# coo_matrix expects the following input format -> (data, (row, column))\n",
    "coo_matrix = sps.coo_matrix(\n",
    "    (df['rating'], (df['user_id'], df['item_id']))\n",
    ")\n",
    "coo_matrix"
   ]
  },
  {
   "cell_type": "markdown",
   "id": "5e87734a-d3c6-4547-b3d5-a4aa144fe1df",
   "metadata": {},
   "source": [
    "Only now our matrix have the required format: `n_users * n_items`. \n",
    "\n",
    "Later depending on where in the matrix we want to apply calculations (rows/columns) we can easily transform the matrix into *csr/csc*"
   ]
  },
  {
   "cell_type": "markdown",
   "id": "42d61d0b-e919-4b27-ad56-7a2738211b92",
   "metadata": {},
   "source": [
    "### 4. Item Popularity Calculation\n",
    "Item popularity can be easily calculated using our sparse matrix. Simply need to sum columns (`column_i -> item_i`)\n",
    "\n",
    "We say that the item is popular if it has many interactions (our heuristic). **The most popular item - item with max number of interactions**\n",
    "\n",
    "**Important**\n",
    "\n",
    "For fast and efficient calculation on columns it's better to use CSC sparse format (**items are in columns**)"
   ]
  },
  {
   "cell_type": "code",
   "execution_count": 35,
   "id": "202b8ef2-54aa-4041-b9fb-125d1c898c4f",
   "metadata": {},
   "outputs": [
    {
     "data": {
      "text/plain": [
       "array([34864, 34457, 33668, ...,     1,     1,     1], dtype=int32)"
      ]
     },
     "execution_count": 35,
     "metadata": {},
     "output_type": "execute_result"
    }
   ],
   "source": [
    "# convert coo into csc\n",
    "csc_matrix = coo_matrix.tocsc()\n",
    "item_pop = np.ediff1d(csc_matrix.indptr)  # use np.ediff1d method to get the sum per item\n",
    "\n",
    "# item popularity in descending order\n",
    "item_pop = -np.sort(-item_pop)\n",
    "item_pop"
   ]
  },
  {
   "cell_type": "code",
   "execution_count": 36,
   "id": "b8793019-072d-4aa1-b575-c11e1c27edd8",
   "metadata": {},
   "outputs": [
    {
     "data": {
      "image/png": "[encoded data removed]",
      "text/plain": [
       "<Figure size 864x432 with 1 Axes>"
      ]
     },
     "metadata": {
      "needs_background": "light"
     },
     "output_type": "display_data"
    }
   ],
   "source": [
    "plt.figure(figsize=(12, 6))\n",
    "plt.plot(item_pop)\n",
    "plt.xlabel('item_id')\n",
    "plt.ylabel('n_interactions')\n",
    "plt.grid();"
   ]
  },
  {
   "cell_type": "markdown",
   "id": "1527ad46-4033-4ba8-a86c-1ad7e027459d",
   "metadata": {},
   "source": [
    "We can see many items have not been seen/interecated by users"
   ]
  },
  {
   "cell_type": "markdown",
   "id": "9b1a4148-aa33-43b8-90df-273ea5518133",
   "metadata": {},
   "source": [
    "**Items statistics**"
   ]
  },
  {
   "cell_type": "code",
   "execution_count": 37,
   "id": "54f7b8e8-1c48-4db6-967e-ca2365f737f6",
   "metadata": {},
   "outputs": [],
   "source": [
    "# select top n % popular items \n",
    "n = 10\n",
    "top_n = int(n_ui/n)"
   ]
  },
  {
   "cell_type": "code",
   "execution_count": 38,
   "id": "60753538-67b3-4c3d-a0df-9c208a7d1e39",
   "metadata": {},
   "outputs": [
    {
     "name": "stdout",
     "output_type": "stream",
     "text": [
      "AVG per-item interaction for the whole dataset: 936.598\n",
      "AVG per-item interaction for top 10% popular items: 6479.52\n",
      "AVG per-item interaction for the least 10% popular items: 5.23\n",
      "N Items with zero interactions:  0\n"
     ]
    }
   ],
   "source": [
    "print(f'AVG per-item interaction for the whole dataset: {round(item_pop.mean(), 3)}')\n",
    "print(f'AVG per-item interaction for top {n}% popular items: {round(item_pop[:top_n].mean(), 2)}') \n",
    "print(f'AVG per-item interaction for the least {n}% popular items: {round(item_pop[-top_n:].mean(), 2)}')\n",
    "print('N Items with zero interactions: ', np.sum((item_pop == 0)))"
   ]
  },
  {
   "cell_type": "markdown",
   "id": "a6195707-9c2d-4a93-9e40-4b2bbbf3283a",
   "metadata": {},
   "source": [
    "### 5. User Profile Length\n",
    "It's important to know which users are active and which not. \n",
    "\n",
    "Define the following heuristic: **active users an average will have more interactions than not active**\n",
    "\n",
    "**Important**\n",
    "\n",
    "For fast and efficient row calculations it's better to use `CSR format` (**users are in rows**)"
   ]
  },
  {
   "cell_type": "code",
   "execution_count": 39,
   "id": "0d8f7f06-0af0-4247-990a-cc880f42fd7b",
   "metadata": {},
   "outputs": [],
   "source": [
    "csr_matrix = coo_matrix.tocsr()\n",
    "\n",
    "# user profile calculation (user activity)\n",
    "user_activity = np.ediff1d(csr_matrix.indptr) \n",
    "user_activity = -np.sort(-user_activity)"
   ]
  },
  {
   "cell_type": "code",
   "execution_count": 40,
   "id": "78258af2-bc51-43a6-968c-480d530538cd",
   "metadata": {},
   "outputs": [
    {
     "data": {
      "image/png": "[encoded data removed]",
      "text/plain": [
       "<Figure size 864x432 with 1 Axes>"
      ]
     },
     "metadata": {
      "needs_background": "light"
     },
     "output_type": "display_data"
    }
   ],
   "source": [
    "plt.figure(figsize=(12, 6))\n",
    "plt.plot(user_activity)\n",
    "plt.xlabel('user_id')\n",
    "plt.ylabel('n_interactions')\n",
    "plt.grid();"
   ]
  },
  {
   "cell_type": "markdown",
   "id": "7d578d93-54bc-4023-8b56-cc9042f94a2b",
   "metadata": {},
   "source": [
    "### 6. Recommender System Evaluation\n",
    "In order to evaluate any recommender we have to define:\n",
    "- train and test data\n",
    "- evaluation metric\n",
    "- algorithm"
   ]
  },
  {
   "cell_type": "code",
   "execution_count": 41,
   "id": "e2ff23c3-c480-41d3-8586-490daae169e4",
   "metadata": {},
   "outputs": [
    {
     "data": {
      "text/plain": [
       "array([ True,  True, False, ...,  True,  True,  True])"
      ]
     },
     "metadata": {},
     "output_type": "display_data"
    },
    {
     "data": {
      "text/plain": [
       "array([False, False,  True, ..., False, False, False])"
      ]
     },
     "metadata": {},
     "output_type": "display_data"
    }
   ],
   "source": [
    "train_mask = np.random.choice(\n",
    "    [True, False],\n",
    "    n_interactions,\n",
    "    p=[0.8, 1 - 0.8]\n",
    ")\n",
    "\n",
    "test_mask = np.logical_not(train_mask)\n",
    "\n",
    "display(train_mask)\n",
    "display(test_mask)"
   ]
  },
  {
   "cell_type": "markdown",
   "id": "68a2fcf0-ae9b-4c9c-b4d2-4c7d9f4c93c0",
   "metadata": {},
   "source": [
    "To create train data efficiently we need to convert out `coo_matrix` into `csr_matrix` using data, row and col attributes of `coo_matrix` \n",
    "\n",
    "**train/test split**"
   ]
  },
  {
   "cell_type": "code",
   "execution_count": 42,
   "id": "f7668cca-415d-4559-9cc4-299da314d4f9",
   "metadata": {},
   "outputs": [],
   "source": [
    "train_data = sps.csr_matrix((\n",
    "    # rating, user_id * item_id\n",
    "    coo_matrix.data[train_mask], (\n",
    "        coo_matrix.row[train_mask], coo_matrix.col[train_mask]\n",
    "    ))\n",
    ")\n",
    "    \n",
    "test_data = sps.csr_matrix((\n",
    "    coo_matrix.data[test_mask], (\n",
    "        coo_matrix.row[test_mask], coo_matrix.col[test_mask]\n",
    "    ))\n",
    ")"
   ]
  },
  {
   "cell_type": "code",
   "execution_count": 43,
   "id": "e87cdbbb-6385-46d8-ad41-069297142e75",
   "metadata": {},
   "outputs": [
    {
     "name": "stdout",
     "output_type": "stream",
     "text": [
      "N Interactions (Train):  8002897\n",
      "N Interactions (Test):  1997157\n"
     ]
    }
   ],
   "source": [
    "print('N Interactions (Train): ', train_data.nnz)\n",
    "print('N Interactions (Test): ', test_data.nnz)"
   ]
  },
  {
   "cell_type": "markdown",
   "id": "37d9911f-5581-4d68-8595-b3fa74ab6f9e",
   "metadata": {},
   "source": [
    "All items in the test data are **called relevant**"
   ]
  },
  {
   "cell_type": "code",
   "execution_count": 59,
   "id": "faae2e52-6a1f-4e3c-994f-3867433841a6",
   "metadata": {},
   "outputs": [
    {
     "name": "stdout",
     "output_type": "stream",
     "text": [
      "User Row in Test Data:  [0. 0. 0. 0. 0. 0. 0. 0. 4. 0. 0. 0. 0. 0. 5. 0. 0. 0. 0. 0.]\n",
      "\n",
      "Interacted Items Indices:\n"
     ]
    },
    {
     "data": {
      "text/plain": [
       "array([   8,   14,   75,   79,   88,  145,  146,  150,  165,  181,  183,\n",
       "        220,  235,  236,  327,  394,  403,  423,  425, 1077, 1283, 1314,\n",
       "       1466, 1622, 2492, 2578, 2771])"
      ]
     },
     "execution_count": 59,
     "metadata": {},
     "output_type": "execute_result"
    }
   ],
   "source": [
    "user_id = 124\n",
    "user_row_values = test_data[user_id] # get row for the user\n",
    "print('User Row in Test Data: ', user_row_values.toarray()[0][:20]) # only first 20 values\n",
    "print()\n",
    "\n",
    "# to get items with which a user did interact, we use indices attribute\n",
    "relevant_u_items = test_data[user_id].indices\n",
    "print('Interacted Items Indices:')\n",
    "relevant_u_items"
   ]
  },
  {
   "cell_type": "code",
   "execution_count": 60,
   "id": "3fa4bbd0-1700-4785-b77b-952ad8066da2",
   "metadata": {},
   "outputs": [
    {
     "data": {
      "text/html": [
       "<div>\n",
       "<style scoped>\n",
       "    .dataframe tbody tr th:only-of-type {\n",
       "        vertical-align: middle;\n",
       "    }\n",
       "\n",
       "    .dataframe tbody tr th {\n",
       "        vertical-align: top;\n",
       "    }\n",
       "\n",
       "    .dataframe thead th {\n",
       "        text-align: right;\n",
       "    }\n",
       "</style>\n",
       "<table border=\"1\" class=\"dataframe\">\n",
       "  <thead>\n",
       "    <tr style=\"text-align: right;\">\n",
       "      <th></th>\n",
       "      <th>user_id</th>\n",
       "      <th>item_id</th>\n",
       "      <th>rating</th>\n",
       "      <th>timestamp</th>\n",
       "    </tr>\n",
       "  </thead>\n",
       "  <tbody>\n",
       "    <tr>\n",
       "      <th>14984</th>\n",
       "      <td>124</td>\n",
       "      <td>96</td>\n",
       "      <td>4.0</td>\n",
       "      <td>868266170</td>\n",
       "    </tr>\n",
       "    <tr>\n",
       "      <th>14985</th>\n",
       "      <td>124</td>\n",
       "      <td>302</td>\n",
       "      <td>3.0</td>\n",
       "      <td>868266445</td>\n",
       "    </tr>\n",
       "    <tr>\n",
       "      <th>14986</th>\n",
       "      <td>124</td>\n",
       "      <td>1280</td>\n",
       "      <td>4.0</td>\n",
       "      <td>868266445</td>\n",
       "    </tr>\n",
       "    <tr>\n",
       "      <th>14987</th>\n",
       "      <td>124</td>\n",
       "      <td>71</td>\n",
       "      <td>5.0</td>\n",
       "      <td>868266486</td>\n",
       "    </tr>\n",
       "    <tr>\n",
       "      <th>14988</th>\n",
       "      <td>124</td>\n",
       "      <td>101</td>\n",
       "      <td>4.0</td>\n",
       "      <td>868266169</td>\n",
       "    </tr>\n",
       "    <tr>\n",
       "      <th>...</th>\n",
       "      <td>...</td>\n",
       "      <td>...</td>\n",
       "      <td>...</td>\n",
       "      <td>...</td>\n",
       "    </tr>\n",
       "    <tr>\n",
       "      <th>15106</th>\n",
       "      <td>124</td>\n",
       "      <td>1469</td>\n",
       "      <td>3.0</td>\n",
       "      <td>868266827</td>\n",
       "    </tr>\n",
       "    <tr>\n",
       "      <th>15107</th>\n",
       "      <td>124</td>\n",
       "      <td>241</td>\n",
       "      <td>3.0</td>\n",
       "      <td>868267110</td>\n",
       "    </tr>\n",
       "    <tr>\n",
       "      <th>15108</th>\n",
       "      <td>124</td>\n",
       "      <td>183</td>\n",
       "      <td>3.0</td>\n",
       "      <td>868267215</td>\n",
       "    </tr>\n",
       "    <tr>\n",
       "      <th>15109</th>\n",
       "      <td>124</td>\n",
       "      <td>47</td>\n",
       "      <td>5.0</td>\n",
       "      <td>868266740</td>\n",
       "    </tr>\n",
       "    <tr>\n",
       "      <th>15110</th>\n",
       "      <td>124</td>\n",
       "      <td>1474</td>\n",
       "      <td>5.0</td>\n",
       "      <td>868266671</td>\n",
       "    </tr>\n",
       "  </tbody>\n",
       "</table>\n",
       "<p>127 rows × 4 columns</p>\n",
       "</div>"
      ],
      "text/plain": [
       "       user_id  item_id  rating  timestamp\n",
       "14984      124       96     4.0  868266170\n",
       "14985      124      302     3.0  868266445\n",
       "14986      124     1280     4.0  868266445\n",
       "14987      124       71     5.0  868266486\n",
       "14988      124      101     4.0  868266169\n",
       "...        ...      ...     ...        ...\n",
       "15106      124     1469     3.0  868266827\n",
       "15107      124      241     3.0  868267110\n",
       "15108      124      183     3.0  868267215\n",
       "15109      124       47     5.0  868266740\n",
       "15110      124     1474     5.0  868266671\n",
       "\n",
       "[127 rows x 4 columns]"
      ]
     },
     "execution_count": 60,
     "metadata": {},
     "output_type": "execute_result"
    }
   ],
   "source": [
    "# let's look at that user \n",
    "user_df = df[df['user_id'] == user_id]\n",
    "user_df"
   ]
  },
  {
   "cell_type": "code",
   "execution_count": 61,
   "id": "e8fc8369-8969-486d-94cb-a65d717a9a1e",
   "metadata": {},
   "outputs": [
    {
     "name": "stdout",
     "output_type": "stream",
     "text": [
      "All Interacted Items for a User:\n"
     ]
    },
    {
     "data": {
      "text/plain": [
       "array([  96,  302, 1280,   71,  101, 1558, 1283,   22,  312,   74,   75,\n",
       "         77,   79,   24,  327, 1008,    4,    5,   83,  336,    8,    9,\n",
       "         11,  340,   85,   88,  175,   14, 2092, 2555,  137,  358,   18,\n",
       "         19,   93,  139,   20,   94, 1427,  360,   27, 1429, 1601,   29,\n",
       "         30, 1603, 1496,   31, 1302, 1303, 1304,  373,   34,  144,  218,\n",
       "        219,  145,  220,  146,  148, 1122, 2310,  150,  382,   36,  225,\n",
       "       1310,  156,  394,  398,  399,  177,  178,  179,  401, 1458,  162,\n",
       "        403,   37, 1021,  404,  406,  165, 1312,  166,  407,  227,  228,\n",
       "        170, 1127, 1314,   44,  408,  231, 1316,  410,  234, 2492,  235,\n",
       "        413,   45,  181, 1464, 1466,  236,  237,  415, 1468, 1318, 2771,\n",
       "        418,  238,   38,  423, 2578, 1622,  424, 1077, 1078, 1079,  425,\n",
       "       1321, 1469,  241,  183,   47, 1474], dtype=int64)"
      ]
     },
     "execution_count": 61,
     "metadata": {},
     "output_type": "execute_result"
    }
   ],
   "source": [
    "# let's look at all items with which the user interacted\n",
    "user_items = user_df['item_id'].unique()\n",
    "print('All Interacted Items for a User:')\n",
    "user_items"
   ]
  },
  {
   "cell_type": "code",
   "execution_count": 65,
   "id": "a24f2113-ecb0-4173-a130-58b6ad378318",
   "metadata": {},
   "outputs": [],
   "source": [
    "assert len(relevant_u_items) == len(set(relevant_u_items).intersection(set(user_items)))"
   ]
  },
  {
   "cell_type": "markdown",
   "id": "c965cccf-126e-40e8-bd17-8145dbd3d224",
   "metadata": {},
   "source": [
    "Perfect, items for that particular user are the same as in test data "
   ]
  },
  {
   "cell_type": "markdown",
   "id": "ad3a19b4-406c-4022-95d3-b9a084a39623",
   "metadata": {},
   "source": [
    "**recommendation example**\n",
    "\n",
    "let's say that we already trained an algorithm and got the recommendation of n elements for a particular user"
   ]
  },
  {
   "cell_type": "code",
   "execution_count": 69,
   "id": "3ec29233-2058-4dc8-824f-2bc89eb7e159",
   "metadata": {},
   "outputs": [
    {
     "data": {
      "text/plain": [
       "array([777,  22,  15, 111, 211])"
      ]
     },
     "execution_count": 69,
     "metadata": {},
     "output_type": "execute_result"
    }
   ],
   "source": [
    "recommended_items = np.array([777, 22, 15, 111, 211])\n",
    "recommended_items"
   ]
  },
  {
   "cell_type": "code",
   "execution_count": 70,
   "id": "8728c858-02ba-4bdf-b719-4c830935b7d1",
   "metadata": {},
   "outputs": [
    {
     "data": {
      "text/plain": [
       "array([False, False, False, False, False])"
      ]
     },
     "execution_count": 70,
     "metadata": {},
     "output_type": "execute_result"
    }
   ],
   "source": [
    "is_relevant = np.in1d(recommended_items, relevant_u_items, assume_unique=True)\n",
    "is_relevant"
   ]
  },
  {
   "cell_type": "markdown",
   "id": "7cceae40-7d77-4a66-a3bf-15d1d367e9e9",
   "metadata": {},
   "source": [
    "None of recommended items are relevant"
   ]
  },
  {
   "cell_type": "markdown",
   "id": "3a4766da-12a7-48b0-b3d2-1d2608af77f8",
   "metadata": {},
   "source": [
    "### 7. Evaluation Metrics (Precision, Recall, AvgPrecision)\n",
    "It's similar to classification task\n",
    "- **Precision@K:** how many of recommended items are relevant\n",
    "- **Recall@K:** how many of relevant items we recommended\n",
    "- **AvgPrecision:** \n",
    "\n",
    "Usually we recommend n items -> that's why we use @K in the metrics"
   ]
  },
  {
   "cell_type": "code",
   "execution_count": 57,
   "id": "22580c06-bb0b-4c8b-8fcc-82dd826207f0",
   "metadata": {},
   "outputs": [],
   "source": [
    "def precision(recommended_i, relevant_i):\n",
    "    is_relevant = np.in1d(recommended_i, relevant_i, assume_unique=True)\n",
    "    score = np.sum(is_relevant, dtype=np.float32) / len(is_relevant)\n",
    "    return score\n",
    "\n",
    "\n",
    "def recall(recommended_i, relevant_i):\n",
    "    is_relevant = np.in1d(recommended_i, relevant_i, assume_unique=True)\n",
    "    score = np.sum(is_relevant, dtype=np.float32) / relevant_i.shape[0]\n",
    "    return score\n",
    "\n",
    "\n",
    "def avg_precision(recommended_i, relevant_i):\n",
    "    is_relevant = np.in1d(recommended_i, relevant_i, assume_unique=True)\n",
    "    # cumulative sum: precision at 1, at 2, at 3 ...\n",
    "    p_at_k = is_relevant * np.cumsum(is_relevant, dtype=np.float32) / (1 + np.arange(is_relevant.shape[0]))\n",
    "    score = np.sum(p_at_k) / np.min([relevant_i.shape[0], is_relevant.shape[0]])\n",
    "    return score"
   ]
  },
  {
   "cell_type": "code",
   "execution_count": 58,
   "id": "b7a6cd90-ac40-48ce-be21-adadd281cec4",
   "metadata": {},
   "outputs": [
    {
     "name": "stdout",
     "output_type": "stream",
     "text": [
      "Precision:  0.0\n",
      "Recall:  0.0\n",
      "AVG Precision:  0.0\n"
     ]
    }
   ],
   "source": [
    "print('Precision: ', precision(recommended_items, relevant_u_items))\n",
    "print('Recall: ', precision(recommended_items, relevant_u_items))\n",
    "print('AVG Precision: ', avg_precision(recommended_items, relevant_u_items))"
   ]
  },
  {
   "cell_type": "markdown",
   "id": "509bd637-cb54-4f30-a137-f23ebce0142c",
   "metadata": {},
   "source": [
    "Our current recommendation is awful (but we know it)"
   ]
  },
  {
   "cell_type": "markdown",
   "id": "50cab6b9-b41f-49d5-a657-90e1737bb2ff",
   "metadata": {},
   "source": [
    "### 8. Basic Recommenders"
   ]
  },
  {
   "cell_type": "markdown",
   "id": "04259202-b29f-4534-ad86-aa5778f7c247",
   "metadata": {},
   "source": [
    "**Random Recommender**\n",
    "\n",
    "With such model we don't have to learn anything from the data"
   ]
  },
  {
   "cell_type": "code",
   "execution_count": 59,
   "id": "fb9a6aa0-a5ee-49f4-a403-3c28fd3af127",
   "metadata": {},
   "outputs": [],
   "source": [
    "class RandomRecommender():\n",
    "    \"\"\"\n",
    "    RecSys that randomly recommends items \n",
    "    \"\"\"\n",
    "    \n",
    "    def fit(self, data):\n",
    "        self.n_items = data.shape[1]\n",
    "        \n",
    "        \n",
    "    def recommend(self, user_id, at=5):\n",
    "        recommended_items = np.random.choice(self.n_items, at)\n",
    "        return recommended_items"
   ]
  },
  {
   "cell_type": "code",
   "execution_count": 61,
   "id": "983da23b-8ce9-484b-b596-798ee94b28ec",
   "metadata": {},
   "outputs": [
    {
     "name": "stdout",
     "output_type": "stream",
     "text": [
      "[ 6320  2439 10661  1975  1528]\n",
      "[ 7787  9030 10329  2477  4458]\n",
      "[5556 9392 1466 8528 9609]\n",
      "[ 768 9614 5052 3521 5600]\n",
      "[10178  8596  5131  9931 10631]\n"
     ]
    }
   ],
   "source": [
    "random_recommender = RandomRecommender()\n",
    "random_recommender.fit(train_data)\n",
    "\n",
    "# predict for 5 users 10 items\n",
    "for user_id in range(5):\n",
    "    print(random_recommender.recommend(user_id, at=5))"
   ]
  },
  {
   "cell_type": "markdown",
   "id": "00cd4b6f-fe36-4747-aae5-fe3acbf47cb3",
   "metadata": {},
   "source": [
    "**Model evaluation**"
   ]
  },
  {
   "cell_type": "code",
   "execution_count": 174,
   "id": "0a65fff9-7d49-4e68-aa12-5c31a170479a",
   "metadata": {},
   "outputs": [],
   "source": [
    "def evaluate_model(test_data, model, at=5, return_scores=True):\n",
    "    cum_precision = 0\n",
    "    cum_recall = 0\n",
    "    cum_avg_precision = 0\n",
    "    n_eval = 0\n",
    "    \n",
    "    for user_id in range(test_data.shape[0]):\n",
    "        relevant_items = test_data.indices[\n",
    "            test_data.indptr[user_id]:test_data.indptr[user_id + 1]\n",
    "        ]\n",
    "        if len(relevant_items) > 0:\n",
    "            recommended_items = model.recommend(user_id, at=at)\n",
    "            n_eval += 1\n",
    "            \n",
    "            cum_precision += precision(recommended_items, relevant_items)\n",
    "            cum_recall += recall(recommended_items, relevant_items)\n",
    "            cum_avg_precision += avg_precision(recommended_items, relevant_items)\n",
    "        \n",
    "    cum_precision /= n_eval\n",
    "    cum_recall /= n_eval\n",
    "    MAP = cum_avg_precision / n_eval\n",
    "    print('Precision = {:.4f}, Recall = {:.4f}, MAP = {:.4f}'.format(\n",
    "        cum_precision, cum_recall, MAP\n",
    "    ))\n",
    "    if return_scores:\n",
    "        scores = [round(score, 5) for score in [cum_precision, cum_recall, MAP]]\n",
    "        return scores"
   ]
  },
  {
   "cell_type": "code",
   "execution_count": 175,
   "id": "7d14af68-b6d8-4297-87ee-ed2413aa4b3c",
   "metadata": {},
   "outputs": [
    {
     "name": "stdout",
     "output_type": "stream",
     "text": [
      "Precision = 0.0028, Recall = 0.0005, MAP = 0.0013\n"
     ]
    }
   ],
   "source": [
    "# create dict with metrics results for later model comparison\n",
    "model_results = {}\n",
    "model_results['rando_rec'] = evaluate_model(test_data, random_recommender)"
   ]
  },
  {
   "cell_type": "markdown",
   "id": "23731cc7-1e96-4c91-801a-ab978e89cfe0",
   "metadata": {},
   "source": [
    "The recommended works but the quality is awful. The model is uselss but the main idea was to get an idea and practice!"
   ]
  },
  {
   "cell_type": "markdown",
   "id": "f4df350d-4bae-43d3-b3ce-b29d4be541be",
   "metadata": {},
   "source": [
    "**Top Popular Recommender**\n",
    "\n",
    "- Let's recommend the most popular items to all users "
   ]
  },
  {
   "cell_type": "code",
   "execution_count": 177,
   "id": "c13f9b5d-97fe-4a9a-8652-08ca42deb35f",
   "metadata": {},
   "outputs": [],
   "source": [
    "class TopPopRecommender():\n",
    "    \"\"\"\n",
    "    RecSys that recommends only popular items\n",
    "    \"\"\"\n",
    "    def fit(self, train_data):\n",
    "        item_popularity = np.ediff1d(train_data.tocsc().indptr)\n",
    "        pop_items = np.argsort(item_popularity)\n",
    "        self.pop_items = np.flip(pop_items, axis=0)\n",
    "    \n",
    "    \n",
    "    def recommend(self, user_id, at=5):\n",
    "        recommended_items = self.pop_items[:at]\n",
    "        return recommended_items"
   ]
  },
  {
   "cell_type": "code",
   "execution_count": 178,
   "id": "182ab599-3ef0-4419-b81c-08165fb7ec91",
   "metadata": {},
   "outputs": [
    {
     "name": "stdout",
     "output_type": "stream",
     "text": [
      "[1008    7  139   14 1293]\n",
      "[1008    7  139   14 1293]\n",
      "[1008    7  139   14 1293]\n",
      "[1008    7  139   14 1293]\n",
      "[1008    7  139   14 1293]\n"
     ]
    }
   ],
   "source": [
    "top_pop_recommender = TopPopRecommender()\n",
    "top_pop_recommender.fit(train_data)\n",
    "\n",
    "# predict for 5 users 5 items\n",
    "for user_id in range(5):\n",
    "    print(top_pop_recommender.recommend(user_id, at=5))"
   ]
  },
  {
   "cell_type": "code",
   "execution_count": 179,
   "id": "72d2b020-e44e-4655-89f2-cf2b19455003",
   "metadata": {},
   "outputs": [
    {
     "name": "stdout",
     "output_type": "stream",
     "text": [
      "Precision = 0.0958, Recall = 0.0309, MAP = 0.0531\n"
     ]
    }
   ],
   "source": [
    "model_results['top_pop_rec'] = evaluate_model(test_data, top_pop_recommender)"
   ]
  },
  {
   "cell_type": "markdown",
   "id": "b9bf24c7-5dac-47e7-8da7-79e9a64a8784",
   "metadata": {},
   "source": [
    "Quality improved! but we can improve the `top_pop_recommender`\n",
    "\n",
    "**Top Popular Recommender (Seen Removed)**\n",
    "\n",
    "- **Idea:** let's remove items than already been seen by users"
   ]
  },
  {
   "cell_type": "code",
   "execution_count": 180,
   "id": "1eba2f74-c00c-4a15-97db-fe3380fccb2a",
   "metadata": {},
   "outputs": [],
   "source": [
    "class TopPopRecommender():\n",
    "    \"\"\"\n",
    "    RecSys that recommends popular items that have not yet been seen by a user \n",
    "    \n",
    "    \"\"\"\n",
    "    def fit(self, train_data):\n",
    "        item_popularity = np.ediff1d(train_data.tocsc().indptr)\n",
    "        pop_items = np.argsort(item_popularity)\n",
    "        self.pop_items = np.flip(pop_items, axis=0)\n",
    "        self.train_data = train_data\n",
    "    \n",
    "    \n",
    "    def recommend(self, user_id, at=5, remove_seen=True):\n",
    "        if remove_seen:\n",
    "            seen_items = self.train_data.indices[\n",
    "                self.train_data.indptr[user_id]:self.train_data.indptr[user_id + 1]\n",
    "            ]\n",
    "            unseen_items_mask = np.in1d(self.pop_items, seen_items, assume_unique=True, invert=True)\n",
    "            unseen_items = self.pop_items[unseen_items_mask]\n",
    "            recommended_items = unseen_items[:at]\n",
    "        else:\n",
    "            recommended_items = self.pop_items[:at]\n",
    "        return recommended_items"
   ]
  },
  {
   "cell_type": "code",
   "execution_count": 182,
   "id": "ceff5507-d045-40f5-92cf-651f77fd80a9",
   "metadata": {},
   "outputs": [
    {
     "name": "stdout",
     "output_type": "stream",
     "text": [
      "[1008  139 1293   22   19]\n",
      "[1008    7  139   14 1293]\n",
      "[1008    7  139   14 1293]\n",
      "[1008    7  139 1293   19]\n",
      "[1008    7  139   14 1293]\n"
     ]
    }
   ],
   "source": [
    "top_pop_recommender = TopPopRecommender()\n",
    "top_pop_recommender.fit(train_data)\n",
    "\n",
    "# predict for 5 users 5 items\n",
    "for user_id in range(5):\n",
    "    print(top_pop_recommender.recommend(user_id, at=5, remove_seen=True))"
   ]
  },
  {
   "cell_type": "markdown",
   "id": "8239d66d-397e-4f59-8960-cc38b26b1697",
   "metadata": {},
   "source": [
    "We see that if a popular item has already been seen by a user it's substituted by another popular item that have not been seen yet"
   ]
  },
  {
   "cell_type": "code",
   "execution_count": 183,
   "id": "d7f345ba-3209-4f8a-b0f9-3103444564b4",
   "metadata": {},
   "outputs": [
    {
     "name": "stdout",
     "output_type": "stream",
     "text": [
      "Precision = 0.1987, Recall = 0.0530, MAP = 0.1474\n"
     ]
    }
   ],
   "source": [
    "model_results['top_pop_rec_unseen'] = evaluate_model(test_data, top_pop_recommender)"
   ]
  },
  {
   "cell_type": "markdown",
   "id": "68866434-5b64-4e7c-8a0b-c679adcc13b8",
   "metadata": {},
   "source": [
    "The qulity improved drastically (**always remove seen items if the purpose is to recommend \"new ones\"**)"
   ]
  },
  {
   "cell_type": "markdown",
   "id": "4cfc5001-a489-4416-94eb-5380cd1951d7",
   "metadata": {},
   "source": [
    "**Top Rated Recommender**\n",
    "\n",
    "- Let's recommend only the highest rated items"
   ]
  },
  {
   "cell_type": "code",
   "execution_count": 184,
   "id": "186190fa-6ef7-45ba-9f18-878edb1997e7",
   "metadata": {},
   "outputs": [
    {
     "name": "stdout",
     "output_type": "stream",
     "text": [
      "Ratings array:  [5. 5. 5. ... 3. 1. 1.]\n",
      "The global avg rating: 3.51\n"
     ]
    }
   ],
   "source": [
    "# first, calculate mean of all ratings (global mean)\n",
    "print('Ratings array: ', train_data.data)\n",
    "gloabl_mean_rating = np.mean(train_data.data)\n",
    "print('The global avg rating: {:.2f}'.format(gloabl_mean_rating))"
   ]
  },
  {
   "cell_type": "markdown",
   "id": "40c9465c-6dd4-4f00-a3ed-dc16d65d6ada",
   "metadata": {},
   "source": [
    "Since we have users and items we can calculate mean rating on *user-level* or *item-level*\n",
    "- `user_mean_rating`: how on average a user rate a film (low mean - critic, high mean - film lovers)\n",
    "- `item_mean_rating`: how good/interesting a film across all users (low mean - boring/awful, high mean - interesting)\n",
    "- `global_mean_rating`: mean of all ratings (array of ratings is flatten and mean is calculated)"
   ]
  },
  {
   "cell_type": "code",
   "execution_count": 185,
   "id": "c9b454c8-97f0-4888-94df-421f406ad992",
   "metadata": {},
   "outputs": [
    {
     "data": {
      "text/plain": [
       "4.0    2301801\n",
       "3.0    1885316\n",
       "5.0    1234832\n",
       "3.5     703813\n",
       "2.0     632606\n",
       "4.5     468329\n",
       "1.0     307610\n",
       "2.5     296254\n",
       "1.5      94813\n",
       "0.5      76272\n",
       "dtype: int64"
      ]
     },
     "execution_count": 185,
     "metadata": {},
     "output_type": "execute_result"
    }
   ],
   "source": [
    "ratings_dist = pd.Series(train_data.data).value_counts()\n",
    "ratings_dist"
   ]
  },
  {
   "cell_type": "code",
   "execution_count": 186,
   "id": "3b371bac-7e29-40a1-9e87-c2d4bdb443ee",
   "metadata": {},
   "outputs": [
    {
     "data": {
      "image/png": "[encoded data removed]",
      "text/plain": [
       "<Figure size 864x432 with 1 Axes>"
      ]
     },
     "metadata": {
      "needs_background": "light"
     },
     "output_type": "display_data"
    }
   ],
   "source": [
    "plt.figure(figsize=(12,6))\n",
    "sns.barplot(x=ratings_dist.index, y=ratings_dist.values);\n",
    "plt.title('Ratings Distribution')\n",
    "plt.xlabel('Rating Value')\n",
    "plt.ylabel('Value');"
   ]
  },
  {
   "cell_type": "markdown",
   "id": "7268d869-1768-41a6-ba43-afedbf773990",
   "metadata": {},
   "source": [
    "Most of the time films are rated between 3 and 4"
   ]
  },
  {
   "cell_type": "code",
   "execution_count": 187,
   "id": "93b4acd9-c880-41ee-9cb7-1bd3653d4513",
   "metadata": {},
   "outputs": [
    {
     "name": "stdout",
     "output_type": "stream",
     "text": [
      "Unbiased Ratings\n"
     ]
    },
    {
     "data": {
      "text/plain": [
       "array([1.48797879, 1.48797879, 1.48797879, 1.48797879, 1.48797879,\n",
       "       1.48797879, 1.48797879, 1.48797879, 1.48797879, 1.48797879])"
      ]
     },
     "execution_count": 187,
     "metadata": {},
     "output_type": "execute_result"
    }
   ],
   "source": [
    "# substract the bias from all ratings\n",
    "train_data_unbiased = train_data.copy()\n",
    "train_data_unbiased.data -= gloabl_mean_rating\n",
    "\n",
    "print('Unbiased Ratings')\n",
    "train_data_unbiased.data[:10]"
   ]
  },
  {
   "cell_type": "markdown",
   "id": "f4ab8539-5b3a-43d6-8f24-6b898bd89ac5",
   "metadata": {},
   "source": [
    "**ItemBias Calculation**\n",
    "\n",
    "Calculate unbiased rating for each item or so-called *ItemBias*\n",
    "\n",
    "We cannot use the mean function because it would include also the zero values, which we want to exclude since they mean \"missing data\"\n",
    "\n",
    "**The mean should be computed only on existing ratings.** To avoid attributing high rating values to items rated by only a few users we can add a constant term to the denominator in order to penalize items with very few ratings."
   ]
  },
  {
   "cell_type": "code",
   "execution_count": 188,
   "id": "68ed8ae6-9673-44a0-8a70-97927c5d912b",
   "metadata": {},
   "outputs": [
    {
     "name": "stdout",
     "output_type": "stream",
     "text": [
      "N NNZ in Each Column (N Non-Zero Ratings for Each Item):\n"
     ]
    },
    {
     "data": {
      "text/plain": [
       "array([ 1931, 11931, 14307, ...,     1,     1,     1], dtype=int32)"
      ]
     },
     "metadata": {},
     "output_type": "display_data"
    },
    {
     "name": "stdout",
     "output_type": "stream",
     "text": [
      "\n",
      "Mean Unbiased Item Rating:\n"
     ]
    },
    {
     "data": {
      "text/plain": [
       "array([      -inf,       -inf,       -inf, ..., 0.85490831, 0.90187153,\n",
       "       0.94191735])"
      ]
     },
     "metadata": {},
     "output_type": "display_data"
    }
   ],
   "source": [
    "lambda_item = 25 # penalization value for item\n",
    "\n",
    "n_nnz_col = np.ediff1d(sps.csc_matrix(train_data_unbiased).indptr)\n",
    "print('N NNZ in Each Column (N Non-Zero Ratings for Each Item):')\n",
    "display(n_nnz_col)\n",
    "\n",
    "# now we need to compute the mean rating for each item excluding the missing values (otherwise it will be biased)\n",
    "item_mean_rating = train_data_unbiased.sum(axis=0) / (n_nnz_col + lambda_item) # get sum rating for each column and divide by n_nnz_col\n",
    "item_mean_rating = np.asarray(item_mean_rating).ravel()  # converts 2-d matrix to 1-d array \n",
    "item_mean_rating[col_nnz == 0] = -np.inf\n",
    "\n",
    "item_mean_rating = np.array(item_mean_rating).squeeze()\n",
    "item_mean_rating = np.sort(item_mean_rating[item_mean_rating != 0])\n",
    "\n",
    "print('\\nMean Unbiased Item Rating:')\n",
    "display(item_mean_rating)"
   ]
  },
  {
   "cell_type": "code",
   "execution_count": 189,
   "id": "3c33c9be-93b8-4576-a4aa-ffa6a1398489",
   "metadata": {},
   "outputs": [
    {
     "data": {
      "image/png": "[encoded data removed]",
      "text/plain": [
       "<Figure size 864x432 with 1 Axes>"
      ]
     },
     "metadata": {
      "needs_background": "light"
     },
     "output_type": "display_data"
    }
   ],
   "source": [
    "plt.figure(figsize=(12, 6))\n",
    "plt.plot(item_mean_rating)\n",
    "plt.xlabel('Items')\n",
    "plt.ylabel('Item Bias')\n",
    "plt.grid();"
   ]
  },
  {
   "cell_type": "markdown",
   "id": "d08c1eff-cb43-4b0e-9d00-d996b8e27901",
   "metadata": {},
   "source": [
    "**UserBias Calculation**\n",
    "\n",
    "Calculate ubiased mean rating for each user"
   ]
  },
  {
   "cell_type": "code",
   "execution_count": 190,
   "id": "ab307478-58dd-468f-984b-5c90d12ca526",
   "metadata": {},
   "outputs": [
    {
     "name": "stdout",
     "output_type": "stream",
     "text": [
      "Rating Sum for Each User:  [ 18  17  26 ... 113  39  42]\n",
      "\n",
      "Mean Unbiased User Rating:\n"
     ]
    },
    {
     "data": {
      "text/plain": [
       "array([-2.38623391, -2.30611784, -2.15593138, ...,  1.30582939,\n",
       "        1.30870423,  1.34979798])"
      ]
     },
     "metadata": {},
     "output_type": "display_data"
    }
   ],
   "source": [
    "lambda_user = 10\n",
    "\n",
    "n_nnz_row = np.ediff1d(train_data_unbiased.indptr)\n",
    "print('Rating Sum for Each User: ', n_nnz_row)\n",
    "\n",
    "# UserBias calculation\n",
    "user_mean_rating = train_data_unbiased.sum(axis=1).ravel() / (n_nnz_row + lambda_user)\n",
    "user_mean_rating = np.asarray(user_mean_rating).ravel()\n",
    "user_mean_rating[row_nnz == 0] = -np.inf\n",
    "\n",
    "user_mean_rating = np.array(user_mean_rating).squeeze()\n",
    "user_mean_rating = np.sort(user_mean_rating[user_mean_rating != 0.0])\n",
    "\n",
    "print('\\nMean Unbiased User Rating:')\n",
    "display(user_mean_rating)"
   ]
  },
  {
   "cell_type": "code",
   "execution_count": 191,
   "id": "ecf73d42-097b-436d-af8e-245e2f521cb3",
   "metadata": {},
   "outputs": [
    {
     "data": {
      "image/png": "[encoded data removed]",
      "text/plain": [
       "<Figure size 864x432 with 1 Axes>"
      ]
     },
     "metadata": {
      "needs_background": "light"
     },
     "output_type": "display_data"
    }
   ],
   "source": [
    "plt.figure(figsize=(12, 6))\n",
    "plt.plot(user_mean_rating)\n",
    "plt.xlabel('User')\n",
    "plt.ylabel('User Bias')\n",
    "plt.grid();"
   ]
  },
  {
   "cell_type": "markdown",
   "id": "29411b21-25a4-44fc-8e7c-497e478a3501",
   "metadata": {},
   "source": [
    "Now items can be sorted according to their `ItemBias` and we can use the same approach as for `TopPop recommendatins`"
   ]
  },
  {
   "cell_type": "code",
   "execution_count": 192,
   "id": "082e3798-1a89-4c2e-8d95-ac4fe54caafc",
   "metadata": {},
   "outputs": [],
   "source": [
    "class TopRatedRecommender():\n",
    "    \"\"\"\n",
    "    RecSys that recommends most rated items that have not yet been seen by a user \n",
    "    \"\"\"\n",
    "    def fit(self, train_data, lambda_user=10, lambda_item=25):\n",
    "        self.data = train_data\n",
    "        self.mu = self.data.data.sum(dtype=np.float32) / self.data.nnz # global mean getting \n",
    "        n_nnz_col = np.ediff1d(sps.csc_matrix(self.data).indptr) # n non-zero elements for each column \n",
    "        \n",
    "        data_unbiased = self.data.copy()\n",
    "        data_unbiased.data -= self.mu\n",
    "        \n",
    "        item_bias = data_unbiased.sum(axis=0) / (n_nnz_col + lambda_item)\n",
    "        item_bias = np.asarray(item_bias).ravel()\n",
    "        item_bias[col_nnz == 0] = -np.inf\n",
    "        \n",
    "        best_rated_items = np.argsort(item_bias)\n",
    "        self.best_rated_items = np.flip(best_rated_items, axis=0)\n",
    "        \n",
    "    \n",
    "    def recommend(self, user_id, at=5, remove_seen=True):\n",
    "        if remove_seen:\n",
    "            seen_items = self.data.indices[\n",
    "                self.data.indptr[user_id]:self.data.indptr[user_id + 1]\n",
    "            ]\n",
    "            unseen_items_mask = np.in1d(self.best_rated_items, seen_items, assume_unique=True, invert=True)\n",
    "            unseen_items = self.best_rated_items[unseen_items_mask]\n",
    "            recommended_items = unseen_items[:at]\n",
    "        else:\n",
    "            recommended_items = self.best_rated_items[:at]\n",
    "        return recommended_items        "
   ]
  },
  {
   "cell_type": "code",
   "execution_count": 194,
   "id": "89528e86-fe08-4b4c-9d9c-a9186eda1c4e",
   "metadata": {},
   "outputs": [
    {
     "name": "stdout",
     "output_type": "stream",
     "text": [
      "[1293   34  213  133 1441]\n",
      "[1293   34  213  133 1441]\n",
      "[1293   34  213  133 1441]\n",
      "[1293   34  213  133 1441]\n",
      "[1293  213 1441  145  218]\n"
     ]
    }
   ],
   "source": [
    "top_rated_recommender = TopRatedRecommender()\n",
    "top_rated_recommender.fit(train_data)\n",
    "\n",
    "# predict for 5 users 5 items\n",
    "for user_id in range(5):\n",
    "    # recommend from top rated items\n",
    "    print(top_rated_recommender.recommend(user_id, at=5, remove_seen=True))"
   ]
  },
  {
   "cell_type": "code",
   "execution_count": 195,
   "id": "a30168c6-3222-4394-9179-c2feeac3e7a9",
   "metadata": {},
   "outputs": [
    {
     "name": "stdout",
     "output_type": "stream",
     "text": [
      "Precision = 0.0767, Recall = 0.0190, MAP = 0.0546\n"
     ]
    }
   ],
   "source": [
    "model_results['top_rated_rec_unseen'] = evaluate_model(test_data, top_rated_recommender)"
   ]
  },
  {
   "cell_type": "markdown",
   "id": "2b816837-46de-4391-9877-bf4f65750863",
   "metadata": {},
   "source": [
    "`GlobalEffectsRecommender` has worse performance though we use \"more information\"."
   ]
  },
  {
   "cell_type": "code",
   "execution_count": 196,
   "id": "5cf41023-5c40-4fb5-a3ae-788cf5eb94d9",
   "metadata": {},
   "outputs": [
    {
     "name": "stdout",
     "output_type": "stream",
     "text": [
      "Removing ratings <= 0\n",
      "Precision = 0.1987, Recall = 0.0530, MAP = 0.1474\n",
      "Removing ratings <= 1\n",
      "Precision = 0.1956, Recall = 0.0528, MAP = 0.1439\n",
      "Removing ratings <= 2\n",
      "Precision = 0.1883, Recall = 0.0512, MAP = 0.1362\n",
      "Removing ratings <= 3\n",
      "Precision = 0.1621, Recall = 0.0438, MAP = 0.1083\n",
      "Removing ratings <= 4\n",
      "Precision = 0.1217, Recall = 0.0348, MAP = 0.0742\n"
     ]
    }
   ],
   "source": [
    "# let's see how TopPopRecommender acuracy changes by using only highly rated items to calculate the popularity\n",
    "for rating_threshold in range(0, 5):\n",
    "    print(f'Removing ratings <= {rating_threshold}')\n",
    "    train_filtered = train_data.copy()\n",
    "    train_filtered.data[train_filtered.data <= rating_threshold] = 0\n",
    "    train_filtered.eliminate_zeros()\n",
    "    \n",
    "    top_pop_recommender = TopPopRecommender()\n",
    "    top_pop_recommender.fit(train_filtered)\n",
    "    evaluate_model(test_data, top_pop_recommender)"
   ]
  },
  {
   "cell_type": "markdown",
   "id": "874badd9-8866-45b6-8b17-91c152a19b4a",
   "metadata": {},
   "source": [
    "**Questions**\n",
    "- Why is `TopRatedRecommender` performing worse than `TopPopRecommender` even if we are taking into account \"more information\" about the interaction?\n",
    "- Why `TopPopRecommender` getting worse if we remove interactions with low rating items?\n",
    "\n",
    "**Answer**\n",
    "\n",
    "Sometimes **ratings are not really more informative than interactions.** \n",
    "\n",
    "Most of the users tend to leave implicit feedback (don't leave any ratings), thus implicit feedback (in our case - items interaction is more reliable)"
   ]
  }
 ],
 "metadata": {
  "kernelspec": {
   "display_name": "Python 3",
   "language": "python",
   "name": "python3"
  },
  "language_info": {
   "codemirror_mode": {
    "name": "ipython",
    "version": 3
   },
   "file_extension": ".py",
   "mimetype": "text/x-python",
   "name": "python",
   "nbconvert_exporter": "python",
   "pygments_lexer": "ipython3",
   "version": "3.7.9"
  }
 },
 "nbformat": 4,
 "nbformat_minor": 5
}
