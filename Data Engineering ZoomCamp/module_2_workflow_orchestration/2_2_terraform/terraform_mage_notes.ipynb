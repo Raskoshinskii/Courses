{
 "cells": [
  {
   "cell_type": "markdown",
   "metadata": {},
   "source": [
    "### Mage Parameterized Execution\n",
    "Functions in Mage can acceptmany different paramters using `*args` and `**kwargs` parameters. Later these paramters can be used in the pipeline to define a certain logic (e.g. write data to GCP using dayily partitioning)\n",
    "\n",
    "\n",
    "### What is a Runtime Varaible?\n",
    "A runtime variable refers to a variable whose value can be changed during the execution (runtime) of a program. Runtime variables contrast with compile-time variables, which are determined and fixed at compile time, before the program is executed.\n",
    "\n",
    "\n",
    "### Terraform Templates\n",
    "1. Clone the following repo: https://github.com/mage-ai/mage-ai-terraform-templates\n",
    "2. `cd` in the repo and then into `gcp`\n",
    "3. run `code .` there and run `terraform init`\n",
    "\n"
   ]
  }
 ],
 "metadata": {
  "language_info": {
   "name": "python"
  }
 },
 "nbformat": 4,
 "nbformat_minor": 2
}
